{
 "cells": [
  {
   "cell_type": "markdown",
   "metadata": {
    "_cell_guid": "7d0ff485-f6eb-45d5-a138-2f1d640f4208",
    "_uuid": "54ffb8214adb51a4145611f2780082d3bab807e8"
   },
   "source": [
    "\n",
    "\n",
    "# Dataset\n",
    "\n",
    "Trimmed [Credit risk dataset](https://archive.ics.uci.edu/dataset/144/statlog+german+credit+data) to have only:\n",
    "\n",
    "<b>Age </b>(numeric)<br>\n",
    "<b>Sex </b>(text: male, female)<br>\n",
    "<b>Job </b>(numeric: 0 - unskilled and non-resident, 1 - unskilled and resident, 2 - skilled, 3 - highly skilled)<br>\n",
    "<b>Housing</b> (text: own, rent, or free)<br>\n",
    "<b>Saving accounts</b> (text - little, moderate, quite rich, rich)<br>\n",
    "<b>Checking account </b>(numeric, in DM - Deutsch Mark)<br>\n",
    "<b>Credit amount</b> (numeric, in DM)<br>\n",
    "<b>Duration</b> (numeric, in month)<br>\n",
    "<b>Purpose</b>(text: car, furniture/equipment, radio/TV, domestic appliances, repairs, education, business, vacation/others<br>\n",
    "<b>Risk </b> (Value target - Good or Bad Risk)<br>\n",
    "\n",
    "See [german-credit-data-with-risk](https://www.kaggle.com/datasets/kabure/german-credit-data-with-risk) to see the data in Kaggle.\n",
    "\n",
    "\n",
    "# Note\n",
    "Install OpenMP runtime on Macbook.\n",
    "```\n",
    "brew install libomp\n",
    "```\n"
   ]
  },
  {
   "cell_type": "markdown",
   "metadata": {
    "_cell_guid": "b09532e1-9964-49e4-932e-7fe8ef29d9e5",
    "_uuid": "20fbb39e66aee438052d48c923b9f09bc8d651b1"
   },
   "source": [
    "# Setup"
   ]
  },
  {
   "cell_type": "code",
   "execution_count": 1,
   "metadata": {
    "_cell_guid": "98e8c140-b331-4a2e-98a1-aa76dd1ae9c3",
    "_uuid": "ebb00fd08333f52902981f381d94492ec2819bfd"
   },
   "outputs": [],
   "source": [
    "from datetime import datetime\n",
    "import json\n",
    "import os\n",
    "import sys\n",
    "import logging\n",
    "import warnings\n",
    "\n",
    "import numpy as np\n",
    "import pandas as pd\n",
    "\n",
    "logging.basicConfig(stream=sys.stdout, level=logging.INFO)\n",
    "warnings.filterwarnings('ignore')\n",
    "\n",
    "# Show full arrays without truncation\n",
    "pd.set_option('display.max_colwidth', None)   # Prevent shortening of column values\n",
    "pd.set_option('display.max_seq_items', None)  # Prevent truncation of sequences\n",
    "pd.set_option('display.expand_frame_repr', False)  # Keep everything in one line per column"
   ]
  },
  {
   "cell_type": "code",
   "execution_count": 2,
   "metadata": {},
   "outputs": [],
   "source": [
    "pythonpath = os.path.abspath(\n",
    "    os.path.join(os.getcwd(), '..', 'deployment/feast/feature_repository')\n",
    ")\n",
    "if pythonpath not in sys.path:\n",
    "    sys.path.append(pythonpath)"
   ]
  },
  {
   "cell_type": "code",
   "execution_count": 3,
   "metadata": {},
   "outputs": [],
   "source": [
    "%load_ext autoreload\n",
    "%autoreload 2\n",
    "\n",
    "from eda import (\n",
    "    analyse_target_distribution,\n",
    "    analyse_per_generation,\n",
    "    analyse_per_property,\n",
    "    analyse_per_gender,\n",
    "    analyse_risk_per_saving,\n",
    "    risk_per_generation,\n",
    "    risk_per_credit_amount_bin,\n",
    "    risk_heatmap,\n",
    "    risk_correlation,\n",
    ")\n",
    "from evaluation import (\n",
    "    evaluate_model\n",
    ")\n",
    "from psql import (\n",
    "    batch_insert_with_progress,\n",
    "    exists_table,\n",
    "    get_all_tables,\n",
    "    truncate,\n",
    "    select_one,\n",
    ")\n",
    "from utility import (\n",
    "    read_yaml\n",
    ")"
   ]
  },
  {
   "cell_type": "markdown",
   "metadata": {
    "_cell_guid": "8f6af2bc-3f44-4134-bb3f-feaabcce6254",
    "_uuid": "b1edd34feb9c638a57fe28bbb56695a9ece694c0"
   },
   "source": [
    "# Data\n"
   ]
  },
  {
   "cell_type": "code",
   "execution_count": 4,
   "metadata": {
    "_cell_guid": "81649261-de36-4f16-9816-643d90d3d2aa",
    "_uuid": "017a2be77ff92841897d9b25e898927e641b90fb"
   },
   "outputs": [
    {
     "data": {
      "text/html": [
       "<div>\n",
       "<style scoped>\n",
       "    .dataframe tbody tr th:only-of-type {\n",
       "        vertical-align: middle;\n",
       "    }\n",
       "\n",
       "    .dataframe tbody tr th {\n",
       "        vertical-align: top;\n",
       "    }\n",
       "\n",
       "    .dataframe thead th {\n",
       "        text-align: right;\n",
       "    }\n",
       "</style>\n",
       "<table border=\"1\" class=\"dataframe\">\n",
       "  <thead>\n",
       "    <tr style=\"text-align: right;\">\n",
       "      <th></th>\n",
       "      <th>Age</th>\n",
       "      <th>Sex</th>\n",
       "      <th>Job</th>\n",
       "      <th>Housing</th>\n",
       "      <th>Saving accounts</th>\n",
       "      <th>Checking account</th>\n",
       "      <th>Credit amount</th>\n",
       "      <th>Duration</th>\n",
       "      <th>Purpose</th>\n",
       "      <th>Risk</th>\n",
       "    </tr>\n",
       "  </thead>\n",
       "  <tbody>\n",
       "    <tr>\n",
       "      <th>0</th>\n",
       "      <td>67</td>\n",
       "      <td>male</td>\n",
       "      <td>2</td>\n",
       "      <td>own</td>\n",
       "      <td>NaN</td>\n",
       "      <td>little</td>\n",
       "      <td>1169</td>\n",
       "      <td>6</td>\n",
       "      <td>radio/TV</td>\n",
       "      <td>0.0</td>\n",
       "    </tr>\n",
       "    <tr>\n",
       "      <th>1</th>\n",
       "      <td>22</td>\n",
       "      <td>female</td>\n",
       "      <td>2</td>\n",
       "      <td>own</td>\n",
       "      <td>little</td>\n",
       "      <td>moderate</td>\n",
       "      <td>5951</td>\n",
       "      <td>48</td>\n",
       "      <td>radio/TV</td>\n",
       "      <td>1.0</td>\n",
       "    </tr>\n",
       "    <tr>\n",
       "      <th>2</th>\n",
       "      <td>49</td>\n",
       "      <td>male</td>\n",
       "      <td>1</td>\n",
       "      <td>own</td>\n",
       "      <td>little</td>\n",
       "      <td>NaN</td>\n",
       "      <td>2096</td>\n",
       "      <td>12</td>\n",
       "      <td>education</td>\n",
       "      <td>0.0</td>\n",
       "    </tr>\n",
       "    <tr>\n",
       "      <th>3</th>\n",
       "      <td>45</td>\n",
       "      <td>male</td>\n",
       "      <td>2</td>\n",
       "      <td>free</td>\n",
       "      <td>little</td>\n",
       "      <td>little</td>\n",
       "      <td>7882</td>\n",
       "      <td>42</td>\n",
       "      <td>furniture/equipment</td>\n",
       "      <td>0.0</td>\n",
       "    </tr>\n",
       "    <tr>\n",
       "      <th>4</th>\n",
       "      <td>53</td>\n",
       "      <td>male</td>\n",
       "      <td>2</td>\n",
       "      <td>free</td>\n",
       "      <td>little</td>\n",
       "      <td>little</td>\n",
       "      <td>4870</td>\n",
       "      <td>24</td>\n",
       "      <td>car</td>\n",
       "      <td>1.0</td>\n",
       "    </tr>\n",
       "  </tbody>\n",
       "</table>\n",
       "</div>"
      ],
      "text/plain": [
       "   Age     Sex  Job Housing Saving accounts Checking account  Credit amount  Duration              Purpose  Risk\n",
       "0   67    male    2     own             NaN           little           1169         6             radio/TV   0.0\n",
       "1   22  female    2     own          little         moderate           5951        48             radio/TV   1.0\n",
       "2   49    male    1     own          little              NaN           2096        12            education   0.0\n",
       "3   45    male    2    free          little           little           7882        42  furniture/equipment   0.0\n",
       "4   53    male    2    free          little           little           4870        24                  car   1.0"
      ]
     },
     "execution_count": 4,
     "metadata": {},
     "output_type": "execute_result"
    }
   ],
   "source": [
    "df = pd.read_csv(\n",
    "    \"../data/raw/german_credit_data.csv\",\n",
    "    index_col=0,\n",
    "    converters={'Risk': lambda x: {'good': 0., 'bad': 1.}[x]}\n",
    ")\n",
    "df.head()"
   ]
  },
  {
   "cell_type": "code",
   "execution_count": 5,
   "metadata": {},
   "outputs": [
    {
     "name": "stdout",
     "output_type": "stream",
     "text": [
      "<class 'pandas.core.frame.DataFrame'>\n",
      "Index: 1000 entries, 0 to 999\n",
      "Data columns (total 10 columns):\n",
      " #   Column            Non-Null Count  Dtype  \n",
      "---  ------            --------------  -----  \n",
      " 0   Age               1000 non-null   int64  \n",
      " 1   Sex               1000 non-null   object \n",
      " 2   Job               1000 non-null   int64  \n",
      " 3   Housing           1000 non-null   object \n",
      " 4   Saving accounts   817 non-null    object \n",
      " 5   Checking account  606 non-null    object \n",
      " 6   Credit amount     1000 non-null   int64  \n",
      " 7   Duration          1000 non-null   int64  \n",
      " 8   Purpose           1000 non-null   object \n",
      " 9   Risk              1000 non-null   float64\n",
      "dtypes: float64(1), int64(4), object(5)\n",
      "memory usage: 85.9+ KB\n",
      "None\n"
     ]
    }
   ],
   "source": [
    "print(df.info())"
   ]
  },
  {
   "cell_type": "markdown",
   "metadata": {},
   "source": [
    "### Column Types"
   ]
  },
  {
   "cell_type": "code",
   "execution_count": 6,
   "metadata": {},
   "outputs": [],
   "source": [
    "numeric_cols = ['Age', 'Credit amount', 'Duration']\n",
    "categorical_cols = ['Sex', 'Job', 'Housing', 'Saving accounts', 'Checking account', 'Purpose']"
   ]
  },
  {
   "cell_type": "markdown",
   "metadata": {},
   "source": [
    "### Unique Categorical Values"
   ]
  },
  {
   "cell_type": "code",
   "execution_count": 7,
   "metadata": {},
   "outputs": [
    {
     "name": "stdout",
     "output_type": "stream",
     "text": [
      "Sex              : [male, female]\n",
      "Job              : [2, 1, 3, 0]\n",
      "Housing          : [own, free, rent]\n",
      "Saving accounts  : [little, quite rich, rich, moderate]\n",
      "Checking account : [little, moderate, rich]\n",
      "Purpose          : [radio/TV, education, furniture/equipment, car, business, domestic appliances, repairs, vacation/others]\n"
     ]
    }
   ],
   "source": [
    "max_len = max(len(col) for col in categorical_cols)\n",
    "\n",
    "for col in categorical_cols:\n",
    "    # Convert unique values to string and join them with commas\n",
    "    unique_values = df[col].dropna().unique()  # optional: remove NaN\n",
    "    unique_str = ', '.join(str(val) for val in unique_values)\n",
    "    print(f\"{col:<{max_len}} : [{unique_str}]\")"
   ]
  },
  {
   "cell_type": "markdown",
   "metadata": {
    "_cell_guid": "2c1da4dc-39d6-4f4a-9a3d-c7c31ddb5e57",
    "_uuid": "06a3ac5f2cc47753350a7d3dd8ad92873f03b16b"
   },
   "source": [
    "# EDA\n",
    "\n",
    "## Target label (Risk) and imbalance\n"
   ]
  },
  {
   "cell_type": "code",
   "execution_count": 8,
   "metadata": {},
   "outputs": [
    {
     "data": {
      "application/vnd.plotly.v1+json": {
       "config": {
        "linkText": "Export to plot.ly",
        "plotlyServerURL": "https://plot.ly",
        "showLink": false
       },
       "data": [
        {
         "name": "Good credit",
         "type": "bar",
         "x": {
          "bdata": "AAAAAAAAAAA=",
          "dtype": "f8"
         },
         "y": {
          "bdata": "vAI=",
          "dtype": "i2"
         }
        },
        {
         "name": "Bad credit",
         "type": "bar",
         "x": {
          "bdata": "AAAAAAAA8D8=",
          "dtype": "f8"
         },
         "y": {
          "bdata": "LAE=",
          "dtype": "i2"
         }
        }
       ],
       "layout": {
        "template": {
         "data": {
          "bar": [
           {
            "error_x": {
             "color": "#2a3f5f"
            },
            "error_y": {
             "color": "#2a3f5f"
            },
            "marker": {
             "line": {
              "color": "#E5ECF6",
              "width": 0.5
             },
             "pattern": {
              "fillmode": "overlay",
              "size": 10,
              "solidity": 0.2
             }
            },
            "type": "bar"
           }
          ],
          "barpolar": [
           {
            "marker": {
             "line": {
              "color": "#E5ECF6",
              "width": 0.5
             },
             "pattern": {
              "fillmode": "overlay",
              "size": 10,
              "solidity": 0.2
             }
            },
            "type": "barpolar"
           }
          ],
          "carpet": [
           {
            "aaxis": {
             "endlinecolor": "#2a3f5f",
             "gridcolor": "white",
             "linecolor": "white",
             "minorgridcolor": "white",
             "startlinecolor": "#2a3f5f"
            },
            "baxis": {
             "endlinecolor": "#2a3f5f",
             "gridcolor": "white",
             "linecolor": "white",
             "minorgridcolor": "white",
             "startlinecolor": "#2a3f5f"
            },
            "type": "carpet"
           }
          ],
          "choropleth": [
           {
            "colorbar": {
             "outlinewidth": 0,
             "ticks": ""
            },
            "type": "choropleth"
           }
          ],
          "contour": [
           {
            "colorbar": {
             "outlinewidth": 0,
             "ticks": ""
            },
            "colorscale": [
             [
              0,
              "#0d0887"
             ],
             [
              0.1111111111111111,
              "#46039f"
             ],
             [
              0.2222222222222222,
              "#7201a8"
             ],
             [
              0.3333333333333333,
              "#9c179e"
             ],
             [
              0.4444444444444444,
              "#bd3786"
             ],
             [
              0.5555555555555556,
              "#d8576b"
             ],
             [
              0.6666666666666666,
              "#ed7953"
             ],
             [
              0.7777777777777778,
              "#fb9f3a"
             ],
             [
              0.8888888888888888,
              "#fdca26"
             ],
             [
              1,
              "#f0f921"
             ]
            ],
            "type": "contour"
           }
          ],
          "contourcarpet": [
           {
            "colorbar": {
             "outlinewidth": 0,
             "ticks": ""
            },
            "type": "contourcarpet"
           }
          ],
          "heatmap": [
           {
            "colorbar": {
             "outlinewidth": 0,
             "ticks": ""
            },
            "colorscale": [
             [
              0,
              "#0d0887"
             ],
             [
              0.1111111111111111,
              "#46039f"
             ],
             [
              0.2222222222222222,
              "#7201a8"
             ],
             [
              0.3333333333333333,
              "#9c179e"
             ],
             [
              0.4444444444444444,
              "#bd3786"
             ],
             [
              0.5555555555555556,
              "#d8576b"
             ],
             [
              0.6666666666666666,
              "#ed7953"
             ],
             [
              0.7777777777777778,
              "#fb9f3a"
             ],
             [
              0.8888888888888888,
              "#fdca26"
             ],
             [
              1,
              "#f0f921"
             ]
            ],
            "type": "heatmap"
           }
          ],
          "histogram": [
           {
            "marker": {
             "pattern": {
              "fillmode": "overlay",
              "size": 10,
              "solidity": 0.2
             }
            },
            "type": "histogram"
           }
          ],
          "histogram2d": [
           {
            "colorbar": {
             "outlinewidth": 0,
             "ticks": ""
            },
            "colorscale": [
             [
              0,
              "#0d0887"
             ],
             [
              0.1111111111111111,
              "#46039f"
             ],
             [
              0.2222222222222222,
              "#7201a8"
             ],
             [
              0.3333333333333333,
              "#9c179e"
             ],
             [
              0.4444444444444444,
              "#bd3786"
             ],
             [
              0.5555555555555556,
              "#d8576b"
             ],
             [
              0.6666666666666666,
              "#ed7953"
             ],
             [
              0.7777777777777778,
              "#fb9f3a"
             ],
             [
              0.8888888888888888,
              "#fdca26"
             ],
             [
              1,
              "#f0f921"
             ]
            ],
            "type": "histogram2d"
           }
          ],
          "histogram2dcontour": [
           {
            "colorbar": {
             "outlinewidth": 0,
             "ticks": ""
            },
            "colorscale": [
             [
              0,
              "#0d0887"
             ],
             [
              0.1111111111111111,
              "#46039f"
             ],
             [
              0.2222222222222222,
              "#7201a8"
             ],
             [
              0.3333333333333333,
              "#9c179e"
             ],
             [
              0.4444444444444444,
              "#bd3786"
             ],
             [
              0.5555555555555556,
              "#d8576b"
             ],
             [
              0.6666666666666666,
              "#ed7953"
             ],
             [
              0.7777777777777778,
              "#fb9f3a"
             ],
             [
              0.8888888888888888,
              "#fdca26"
             ],
             [
              1,
              "#f0f921"
             ]
            ],
            "type": "histogram2dcontour"
           }
          ],
          "mesh3d": [
           {
            "colorbar": {
             "outlinewidth": 0,
             "ticks": ""
            },
            "type": "mesh3d"
           }
          ],
          "parcoords": [
           {
            "line": {
             "colorbar": {
              "outlinewidth": 0,
              "ticks": ""
             }
            },
            "type": "parcoords"
           }
          ],
          "pie": [
           {
            "automargin": true,
            "type": "pie"
           }
          ],
          "scatter": [
           {
            "fillpattern": {
             "fillmode": "overlay",
             "size": 10,
             "solidity": 0.2
            },
            "type": "scatter"
           }
          ],
          "scatter3d": [
           {
            "line": {
             "colorbar": {
              "outlinewidth": 0,
              "ticks": ""
             }
            },
            "marker": {
             "colorbar": {
              "outlinewidth": 0,
              "ticks": ""
             }
            },
            "type": "scatter3d"
           }
          ],
          "scattercarpet": [
           {
            "marker": {
             "colorbar": {
              "outlinewidth": 0,
              "ticks": ""
             }
            },
            "type": "scattercarpet"
           }
          ],
          "scattergeo": [
           {
            "marker": {
             "colorbar": {
              "outlinewidth": 0,
              "ticks": ""
             }
            },
            "type": "scattergeo"
           }
          ],
          "scattergl": [
           {
            "marker": {
             "colorbar": {
              "outlinewidth": 0,
              "ticks": ""
             }
            },
            "type": "scattergl"
           }
          ],
          "scattermap": [
           {
            "marker": {
             "colorbar": {
              "outlinewidth": 0,
              "ticks": ""
             }
            },
            "type": "scattermap"
           }
          ],
          "scattermapbox": [
           {
            "marker": {
             "colorbar": {
              "outlinewidth": 0,
              "ticks": ""
             }
            },
            "type": "scattermapbox"
           }
          ],
          "scatterpolar": [
           {
            "marker": {
             "colorbar": {
              "outlinewidth": 0,
              "ticks": ""
             }
            },
            "type": "scatterpolar"
           }
          ],
          "scatterpolargl": [
           {
            "marker": {
             "colorbar": {
              "outlinewidth": 0,
              "ticks": ""
             }
            },
            "type": "scatterpolargl"
           }
          ],
          "scatterternary": [
           {
            "marker": {
             "colorbar": {
              "outlinewidth": 0,
              "ticks": ""
             }
            },
            "type": "scatterternary"
           }
          ],
          "surface": [
           {
            "colorbar": {
             "outlinewidth": 0,
             "ticks": ""
            },
            "colorscale": [
             [
              0,
              "#0d0887"
             ],
             [
              0.1111111111111111,
              "#46039f"
             ],
             [
              0.2222222222222222,
              "#7201a8"
             ],
             [
              0.3333333333333333,
              "#9c179e"
             ],
             [
              0.4444444444444444,
              "#bd3786"
             ],
             [
              0.5555555555555556,
              "#d8576b"
             ],
             [
              0.6666666666666666,
              "#ed7953"
             ],
             [
              0.7777777777777778,
              "#fb9f3a"
             ],
             [
              0.8888888888888888,
              "#fdca26"
             ],
             [
              1,
              "#f0f921"
             ]
            ],
            "type": "surface"
           }
          ],
          "table": [
           {
            "cells": {
             "fill": {
              "color": "#EBF0F8"
             },
             "line": {
              "color": "white"
             }
            },
            "header": {
             "fill": {
              "color": "#C8D4E3"
             },
             "line": {
              "color": "white"
             }
            },
            "type": "table"
           }
          ]
         },
         "layout": {
          "annotationdefaults": {
           "arrowcolor": "#2a3f5f",
           "arrowhead": 0,
           "arrowwidth": 1
          },
          "autotypenumbers": "strict",
          "coloraxis": {
           "colorbar": {
            "outlinewidth": 0,
            "ticks": ""
           }
          },
          "colorscale": {
           "diverging": [
            [
             0,
             "#8e0152"
            ],
            [
             0.1,
             "#c51b7d"
            ],
            [
             0.2,
             "#de77ae"
            ],
            [
             0.3,
             "#f1b6da"
            ],
            [
             0.4,
             "#fde0ef"
            ],
            [
             0.5,
             "#f7f7f7"
            ],
            [
             0.6,
             "#e6f5d0"
            ],
            [
             0.7,
             "#b8e186"
            ],
            [
             0.8,
             "#7fbc41"
            ],
            [
             0.9,
             "#4d9221"
            ],
            [
             1,
             "#276419"
            ]
           ],
           "sequential": [
            [
             0,
             "#0d0887"
            ],
            [
             0.1111111111111111,
             "#46039f"
            ],
            [
             0.2222222222222222,
             "#7201a8"
            ],
            [
             0.3333333333333333,
             "#9c179e"
            ],
            [
             0.4444444444444444,
             "#bd3786"
            ],
            [
             0.5555555555555556,
             "#d8576b"
            ],
            [
             0.6666666666666666,
             "#ed7953"
            ],
            [
             0.7777777777777778,
             "#fb9f3a"
            ],
            [
             0.8888888888888888,
             "#fdca26"
            ],
            [
             1,
             "#f0f921"
            ]
           ],
           "sequentialminus": [
            [
             0,
             "#0d0887"
            ],
            [
             0.1111111111111111,
             "#46039f"
            ],
            [
             0.2222222222222222,
             "#7201a8"
            ],
            [
             0.3333333333333333,
             "#9c179e"
            ],
            [
             0.4444444444444444,
             "#bd3786"
            ],
            [
             0.5555555555555556,
             "#d8576b"
            ],
            [
             0.6666666666666666,
             "#ed7953"
            ],
            [
             0.7777777777777778,
             "#fb9f3a"
            ],
            [
             0.8888888888888888,
             "#fdca26"
            ],
            [
             1,
             "#f0f921"
            ]
           ]
          },
          "colorway": [
           "#636efa",
           "#EF553B",
           "#00cc96",
           "#ab63fa",
           "#FFA15A",
           "#19d3f3",
           "#FF6692",
           "#B6E880",
           "#FF97FF",
           "#FECB52"
          ],
          "font": {
           "color": "#2a3f5f"
          },
          "geo": {
           "bgcolor": "white",
           "lakecolor": "white",
           "landcolor": "#E5ECF6",
           "showlakes": true,
           "showland": true,
           "subunitcolor": "white"
          },
          "hoverlabel": {
           "align": "left"
          },
          "hovermode": "closest",
          "mapbox": {
           "style": "light"
          },
          "paper_bgcolor": "white",
          "plot_bgcolor": "#E5ECF6",
          "polar": {
           "angularaxis": {
            "gridcolor": "white",
            "linecolor": "white",
            "ticks": ""
           },
           "bgcolor": "#E5ECF6",
           "radialaxis": {
            "gridcolor": "white",
            "linecolor": "white",
            "ticks": ""
           }
          },
          "scene": {
           "xaxis": {
            "backgroundcolor": "#E5ECF6",
            "gridcolor": "white",
            "gridwidth": 2,
            "linecolor": "white",
            "showbackground": true,
            "ticks": "",
            "zerolinecolor": "white"
           },
           "yaxis": {
            "backgroundcolor": "#E5ECF6",
            "gridcolor": "white",
            "gridwidth": 2,
            "linecolor": "white",
            "showbackground": true,
            "ticks": "",
            "zerolinecolor": "white"
           },
           "zaxis": {
            "backgroundcolor": "#E5ECF6",
            "gridcolor": "white",
            "gridwidth": 2,
            "linecolor": "white",
            "showbackground": true,
            "ticks": "",
            "zerolinecolor": "white"
           }
          },
          "shapedefaults": {
           "line": {
            "color": "#2a3f5f"
           }
          },
          "ternary": {
           "aaxis": {
            "gridcolor": "white",
            "linecolor": "white",
            "ticks": ""
           },
           "baxis": {
            "gridcolor": "white",
            "linecolor": "white",
            "ticks": ""
           },
           "bgcolor": "#E5ECF6",
           "caxis": {
            "gridcolor": "white",
            "linecolor": "white",
            "ticks": ""
           }
          },
          "title": {
           "x": 0.05
          },
          "xaxis": {
           "automargin": true,
           "gridcolor": "white",
           "linecolor": "white",
           "ticks": "",
           "title": {
            "standoff": 15
           },
           "zerolinecolor": "white",
           "zerolinewidth": 2
          },
          "yaxis": {
           "automargin": true,
           "gridcolor": "white",
           "linecolor": "white",
           "ticks": "",
           "title": {
            "standoff": 15
           },
           "zerolinecolor": "white",
           "zerolinewidth": 2
          }
         }
        },
        "title": {
         "text": "Target label distribution"
        },
        "xaxis": {
         "title": {
          "text": "Risk Variable"
         }
        },
        "yaxis": {
         "title": {
          "text": "Count"
         }
        }
       }
      },
      "image/png": "[encoded data removed]"
     },
     "metadata": {},
     "output_type": "display_data"
    },
    {
     "data": {
      "text/plain": [
       "2.3333333333333335"
      ]
     },
     "execution_count": 8,
     "metadata": {},
     "output_type": "execute_result"
    }
   ],
   "source": [
    "analyse_target_distribution(df=df)\n",
    "scale = sum(df['Risk'] == False) / sum(df['Risk'] == True)\n",
    "scale"
   ]
  },
  {
   "cell_type": "markdown",
   "metadata": {},
   "source": [
    "## Risk by Credit Amount\n",
    "\n",
    "Higher the amount, higher the risk.\n"
   ]
  },
  {
   "cell_type": "code",
   "execution_count": 9,
   "metadata": {},
   "outputs": [
    {
     "data": {
      "application/vnd.plotly.v1+json": {
       "config": {
        "linkText": "Export to plot.ly",
        "plotlyServerURL": "https://plot.ly",
        "showLink": false
       },
       "data": [
        {
         "marker": {
          "color": "#3D9970"
         },
         "name": "Good credit",
         "type": "box",
         "x": [
          "Senior",
          "Adult",
          "Adult",
          "Young",
          "Adult",
          "Young",
          "Senior",
          "Student",
          "Young",
          "Adult",
          "Student",
          "Young",
          "Adult",
          "Adult",
          "Adult",
          "Adult",
          "Young",
          "Adult",
          "Adult",
          "Adult",
          "Young",
          "Adult",
          "Young",
          "Young",
          "Adult",
          "Young",
          "Young",
          "Adult",
          "Student",
          "Young",
          "Young",
          "Adult",
          "Student",
          "Young",
          "Adult",
          "Student",
          "Adult",
          "Young",
          "Young",
          "Young",
          "Student",
          "Young",
          "Young",
          "Young",
          "Student",
          "Young",
          "Adult",
          "Young",
          "Adult",
          "Young",
          "Student",
          "Student",
          "Young",
          "Adult",
          "Adult",
          "Adult",
          "Senior",
          "Adult",
          "Adult",
          "Student",
          "Adult",
          "Student",
          "Adult",
          "Adult",
          "Young",
          "Young",
          "Young",
          "Adult",
          "Adult",
          "Student",
          "Adult",
          "Senior",
          "Young",
          "Adult",
          "Adult",
          "Adult",
          "Student",
          "Student",
          "Young",
          "Young",
          "Young",
          "Young",
          "Young",
          "Young",
          "Student",
          "Young",
          "Young",
          "Adult",
          "Young",
          "Adult",
          "Adult",
          "Student",
          "Senior",
          "Young",
          "Adult",
          "Young",
          "Student",
          "Young",
          "Adult",
          "Student",
          "Adult",
          "Young",
          "Young",
          "Adult",
          "Young",
          "Young",
          "Young",
          "Student",
          "Young",
          "Adult",
          "Adult",
          "Young",
          "Adult",
          "Adult",
          "Adult",
          "Student",
          "Young",
          "Adult",
          "Adult",
          "Adult",
          "Adult",
          "Young",
          "Adult",
          "Young",
          "Adult",
          "Senior",
          "Adult",
          "Young",
          "Student",
          "Student",
          "Young",
          "Young",
          "Adult",
          "Adult",
          "Young",
          "Senior",
          "Adult",
          "Young",
          "Senior",
          "Young",
          "Young",
          "Young",
          "Adult",
          "Adult",
          "Young",
          "Young",
          "Adult",
          "Adult",
          "Adult",
          "Young",
          "Student",
          "Adult",
          "Young",
          "Adult",
          "Adult",
          "Adult",
          "Young",
          "Student",
          "Student",
          "Senior",
          "Young",
          "Student",
          "Young",
          "Young",
          "Young",
          "Young",
          "Student",
          "Adult",
          "Young",
          "Student",
          "Adult",
          "Young",
          "Adult",
          "Adult",
          "Young",
          "Young",
          "Student",
          "Adult",
          "Young",
          "Young",
          "Adult",
          "Adult",
          "Young",
          "Student",
          "Young",
          "Young",
          "Student",
          "Adult",
          "Young",
          "Adult",
          "Adult",
          "Adult",
          "Young",
          "Adult",
          "Adult",
          "Student",
          "Young",
          "Adult",
          "Adult",
          "Young",
          "Young",
          "Adult",
          "Young",
          "Student",
          "Adult",
          "Adult",
          "Senior",
          "Adult",
          "Young",
          "Young",
          "Young",
          "Adult",
          "Young",
          "Adult",
          "Adult",
          "Adult",
          "Student",
          "Adult",
          "Adult",
          "Young",
          "Adult",
          "Adult",
          "Young",
          "Student",
          "Student",
          "Adult",
          "Student",
          "Young",
          "Young",
          "Adult",
          "Adult",
          "Young",
          "Young",
          "Young",
          "Young",
          "Adult",
          "Adult",
          "Adult",
          "Young",
          "Young",
          "Young",
          "Senior",
          "Student",
          "Young",
          "Young",
          "Student",
          "Young",
          "Student",
          "Young",
          "Adult",
          "Adult",
          "Student",
          "Student",
          "Young",
          "Student",
          "Adult",
          "Adult",
          "Adult",
          "Young",
          "Senior",
          "Adult",
          "Adult",
          "Student",
          "Adult",
          "Young",
          "Student",
          "Adult",
          "Adult",
          "Young",
          "Student",
          "Senior",
          "Young",
          "Adult",
          "Adult",
          "Adult",
          "Student",
          "Young",
          "Young",
          "Student",
          "Student",
          "Adult",
          "Young",
          "Young",
          "Young",
          "Student",
          "Adult",
          "Young",
          "Young",
          "Young",
          "Adult",
          "Adult",
          "Adult",
          "Adult",
          "Young",
          "Young",
          "Adult",
          "Adult",
          "Young",
          "Young",
          "Student",
          "Young",
          "Adult",
          "Young",
          "Student",
          "Young",
          "Student",
          "Young",
          "Adult",
          "Young",
          "Student",
          "Young",
          "Adult",
          "Student",
          "Senior",
          "Adult",
          "Young",
          "Student",
          "Student",
          "Adult",
          "Senior",
          "Adult",
          "Young",
          "Young",
          "Adult",
          "Young",
          "Adult",
          "Young",
          "Young",
          "Young",
          "Young",
          "Young",
          "Adult",
          "Young",
          "Young",
          "Adult",
          "Adult",
          "Young",
          "Adult",
          "Young",
          "Senior",
          "Young",
          "Young",
          "Young",
          "Adult",
          "Student",
          "Student",
          "Adult",
          "Adult",
          "Student",
          "Young",
          "Adult",
          "Young",
          "Adult",
          "Adult",
          "Senior",
          "Young",
          "Young",
          "Young",
          "Young",
          "Adult",
          "Adult",
          "Adult",
          "Young",
          "Young",
          "Adult",
          "Adult",
          "Adult",
          "Young",
          "Adult",
          "Young",
          "Young",
          "Student",
          "Adult",
          "Adult",
          "Adult",
          "Adult",
          "Adult",
          "Adult",
          "Student",
          "Young",
          "Young",
          "Young",
          "Adult",
          "Adult",
          "Young",
          "Adult",
          "Young",
          "Student",
          "Senior",
          "Adult",
          "Adult",
          "Adult",
          "Senior",
          "Adult",
          "Young",
          "Young",
          "Student",
          "Adult",
          "Young",
          "Senior",
          "Adult",
          "Young",
          "Adult",
          "Student",
          "Young",
          "Adult",
          "Adult",
          "Young",
          "Student",
          "Young",
          "Student",
          "Young",
          "Young",
          "Young",
          "Adult",
          "Young",
          "Adult",
          "Adult",
          "Student",
          "Adult",
          "Adult",
          "Adult",
          "Young",
          "Adult",
          "Student",
          "Student",
          "Senior",
          "Young",
          "Adult",
          "Young",
          "Student",
          "Adult",
          "Young",
          "Adult",
          "Adult",
          "Young",
          "Student",
          "Young",
          "Adult",
          "Adult",
          "Senior",
          "Young",
          "Student",
          "Adult",
          "Young",
          "Student",
          "Young",
          "Adult",
          "Young",
          "Young",
          "Young",
          "Adult",
          "Young",
          "Student",
          "Adult",
          "Young",
          "Adult",
          "Student",
          "Adult",
          "Young",
          "Adult",
          "Young",
          "Young",
          "Young",
          "Adult",
          "Young",
          "Young",
          "Adult",
          "Student",
          "Young",
          "Young",
          "Senior",
          "Young",
          "Adult",
          "Adult",
          "Young",
          "Adult",
          "Young",
          "Young",
          "Young",
          "Young",
          "Young",
          "Young",
          "Student",
          "Student",
          "Young",
          "Adult",
          "Young",
          "Adult",
          "Young",
          "Adult",
          "Student",
          "Adult",
          "Adult",
          "Adult",
          "Young",
          "Young",
          "Student",
          "Adult",
          "Young",
          "Adult",
          "Student",
          "Senior",
          "Adult",
          "Young",
          "Young",
          "Young",
          "Senior",
          "Adult",
          "Adult",
          "Adult",
          "Young",
          "Adult",
          "Young",
          "Adult",
          "Young",
          "Young",
          "Adult",
          "Young",
          "Student",
          "Adult",
          "Student",
          "Young",
          "Young",
          "Student",
          "Young",
          "Young",
          "Adult",
          "Student",
          "Student",
          "Senior",
          "Young",
          "Adult",
          "Student",
          "Young",
          "Adult",
          "Young",
          "Young",
          "Senior",
          "Young",
          "Adult",
          "Adult",
          "Senior",
          "Adult",
          "Student",
          "Adult",
          "Senior",
          "Adult",
          "Young",
          "Adult",
          "Young",
          "Adult",
          "Adult",
          "Adult",
          "Young",
          "Adult",
          "Young",
          "Student",
          "Student",
          "Adult",
          "Young",
          "Adult",
          "Adult",
          "Student",
          "Young",
          "Student",
          "Young",
          "Senior",
          "Adult",
          "Young",
          "Young",
          "Adult",
          "Senior",
          "Student",
          "Adult",
          "Young",
          "Student",
          "Adult",
          "Young",
          "Young",
          "Adult",
          "Adult",
          "Adult",
          "Student",
          "Student",
          "Senior",
          "Adult",
          "Young",
          "Adult",
          "Adult",
          "Young",
          "Young",
          "Adult",
          "Adult",
          "Young",
          "Adult",
          "Young",
          "Adult",
          "Young",
          "Young",
          "Young",
          "Young",
          "Student",
          "Young",
          "Adult",
          "Adult",
          "Student",
          "Adult",
          "Adult",
          "Young",
          "Student",
          "Young",
          "Adult",
          "Adult",
          "Young",
          "Adult",
          "Adult",
          "Adult",
          "Adult",
          "Senior",
          "Young",
          "Young",
          "Adult",
          "Adult",
          "Adult",
          "Adult",
          "Young",
          "Young",
          "Young",
          "Young",
          "Young",
          "Young",
          "Adult",
          "Adult",
          "Adult",
          "Adult",
          "Student",
          "Student",
          "Young",
          "Adult",
          "Young",
          "Young",
          "Student",
          "Young",
          "Young",
          "Young",
          "Adult",
          "Young",
          "Student",
          "Adult",
          "Adult",
          "Student",
          "Young",
          "Adult",
          "Student",
          "Young",
          "Adult",
          "Adult",
          "Young",
          "Young",
          "Adult",
          "Adult",
          "Young",
          "Adult",
          "Adult",
          "Young",
          "Adult",
          "Adult",
          "Adult",
          "Young",
          "Young",
          "Adult",
          "Young",
          "Student",
          "Young",
          "Adult",
          "Young",
          "Adult",
          "Student",
          "Adult",
          "Young",
          "Adult",
          "Senior",
          "Adult",
          "Young",
          "Young",
          "Student",
          "Young",
          "Senior",
          "Young",
          "Adult",
          "Adult",
          "Young",
          "Student",
          "Young",
          "Adult",
          "Young",
          "Adult",
          "Adult",
          "Young"
         ],
         "y": {
          "bdata": "kQQwCMoeXyMTCyQb8wsfBnsFeAmIH2YNVghXCsEIDAcVCF4FqgGZAW8JeQe0D+oW8ATCBd4XyQTKAR0JhgQ8GCsYcQX7CEgFPBwZCB0JTRfuBDINDwNeJakHbwUBBm0MRhR7CO8DWgnFH9oCjARCF/YFoxLcJPgOvQQgBtsGCwmEBQ8FyQhqAoEFIQ4mBdwHPgohCZEbvQUTCaQDfweNCb4XKR6CBakFiAF0GJAG+g1UCD4JHA/oBg0DSQi9AkQHJyGUCsAHoCfYBKUhqApZB8UCuxJYDfAI7g1cA6oC+xQuBkIFhAfYFk4eNxsIBVMBuA1qBzgLHwTuBIwcjQOiCykGhA/7AoYFEQpSAasHOwLBDlAFlwSsDDwIZgXICqgDkAT9E9cFfymPB5AFqBmFBQIM+w4ODaQDIAxJD80LVAVxArAEwwKiCzESNQpNDMsJXQhiAwgGCwXaCTsGoQR3DeoEzQK0BIUHmgLLCDcQ7gf6HHwK5A6CBHkGQwa2FLwKzwSgGP0F5wNmCnoFiS+JCmQJ7gRtBygNJgalBfAFJg/iKbQSnh1EBDQEExm8Es0dQxIHBdMJuQqgAg4EBwbLEhQBBRWHFaUO1gXEAv8QvQI7Dl4LYwoEBEYNqRb1BXkRLATXGTUISRDxBW8WDw6NDFcRbQ+zBXIDrg7PBtQEnQzXAhsJCAPXBEcNxwjmBgYGCg9CDrkLBwy2F2IIvDUQCU4DagGkCAMFMgWwEL4IZgTOHBYJqQUcB9cDsQylB2YJ8C0SCiwJ7AXBBV8HIgNTC5UIHQSjDK8HVRw9BtIWFyHeCnIM7Ae+AzcG2wq3Cn0EIQV4DVAHCghYCJQCBwVCDVwHVAZFCtwEEAqQBS4rBgLHCm4KdwpBD1cB8hEkDrkGyQvyAp4HbAtGHMwKRxLWBAkKIBQNBMYF9Q2xBCYOwAOLBAUMrQ6KBb4NjgfVBHABSggxBhUFKwV1FWYEOAmFBYwhThJ/CkkCzwhhAlEFswS8AoMVoA1ZBB4f/AXfBZYC4QjfBR8FIQxeBRwO6QvwB+cE5gcQBpoi5APWBssHrwSUC6sCaBIRBhIKiw9CFzkVJgM6BOQKcguHB6kDNAxsBVUI7woJBYEBrQckBhcPGQn7BAwLrhEDCBQFHQ0wDqwvxSNcDoACRA5CB7sHRAjKD/gOTA6kBXEFYAUlPdUFHAU7B1gH5xE0HSoJhQ/uJ30Q2RgRBcEIGgQXBKoYqA0ZDskLKxBuFn4oIAiyER4UUAmtBQIG5wjGBe8TgSZ/GUMFLgvBCkMOzwNHClALbBLsCNQETwSeAwgHcQdhBccJ4AnMFLYERgh1AqwJcgSsHQUM4QVMDAQYFgP6ACQF+wQDGfgCKwo0DZYPHBFpGhUJGARYDLMJYzcFB88JgBTVC6wBSQOLFhMFcQW1E6YInwmDBFULIQ53BvwKywyvCMgFzw21DU8WIA+UB4IFRBmVB3MKvwqpGMUETAv2C/0I6gTNAg0GPQYDB7AQ0AMwHU4CogNDJIsD5AEIHToFEgbxPU0EyAvbAsQOQgYZGkcJ3BN2A1kCjQszCrELFwZeDYgP4QRUBcoPvwV7KsIFfgMPDfkNrBauEa0IVQkDDfEcjAL+HT8FZgVqAwYOKgWUBwsOVhqGHj0khQhKBAkL1hmQHooJJQd7CKgWkQTzIi4KOAaKCJ0N7ShqBf4EUwSzDn8OCg57DGYRrwteCCALGQfNMdIHGQRLB0AF0wbIBAoC2gUPCLoaxw0KBqEDrwU1B6YgKwsGDmUHzwRIDoIE/QvMBjEJ5A3GAbMG8A3+G2MP6gXhHA8L6gTxAnsJawvsB5kFkRiBBbMZzwbtDSEGkAd3D1YJyAYRDyQD4BE=",
          "dtype": "i2"
         }
        },
        {
         "marker": {
          "color": "#FF4136"
         },
         "name": "Bad credit",
         "type": "box",
         "x": [
          "Student",
          "Adult",
          "Young",
          "Student",
          "Student",
          "Adult",
          "Young",
          "Adult",
          "Senior",
          "Student",
          "Adult",
          "Adult",
          "Adult",
          "Adult",
          "Student",
          "Senior",
          "Student",
          "Adult",
          "Adult",
          "Young",
          "Adult",
          "Adult",
          "Young",
          "Young",
          "Adult",
          "Adult",
          "Adult",
          "Student",
          "Young",
          "Student",
          "Student",
          "Young",
          "Young",
          "Young",
          "Young",
          "Senior",
          "Student",
          "Student",
          "Young",
          "Young",
          "Young",
          "Young",
          "Young",
          "Adult",
          "Young",
          "Young",
          "Adult",
          "Adult",
          "Senior",
          "Student",
          "Adult",
          "Young",
          "Adult",
          "Student",
          "Young",
          "Young",
          "Adult",
          "Student",
          "Adult",
          "Senior",
          "Young",
          "Adult",
          "Student",
          "Young",
          "Young",
          "Student",
          "Senior",
          "Young",
          "Student",
          "Student",
          "Student",
          "Young",
          "Adult",
          "Adult",
          "Young",
          "Young",
          "Young",
          "Adult",
          "Young",
          "Young",
          "Adult",
          "Adult",
          "Adult",
          "Young",
          "Student",
          "Student",
          "Young",
          "Young",
          "Young",
          "Young",
          "Student",
          "Student",
          "Student",
          "Adult",
          "Student",
          "Young",
          "Young",
          "Young",
          "Student",
          "Young",
          "Student",
          "Student",
          "Adult",
          "Adult",
          "Adult",
          "Adult",
          "Adult",
          "Adult",
          "Young",
          "Student",
          "Young",
          "Adult",
          "Young",
          "Young",
          "Young",
          "Student",
          "Adult",
          "Young",
          "Student",
          "Young",
          "Adult",
          "Young",
          "Young",
          "Senior",
          "Young",
          "Young",
          "Young",
          "Student",
          "Student",
          "Young",
          "Young",
          "Young",
          "Adult",
          "Adult",
          "Student",
          "Young",
          "Young",
          "Adult",
          "Student",
          "Young",
          "Young",
          "Young",
          "Student",
          "Student",
          "Adult",
          "Young",
          "Young",
          "Young",
          "Adult",
          "Student",
          "Young",
          "Young",
          "Adult",
          "Student",
          "Young",
          "Student",
          "Young",
          "Young",
          "Young",
          "Young",
          "Student",
          "Adult",
          "Adult",
          "Young",
          "Student",
          "Young",
          "Young",
          "Young",
          "Student",
          "Adult",
          "Adult",
          "Student",
          "Adult",
          "Young",
          "Student",
          "Adult",
          "Young",
          "Young",
          "Young",
          "Young",
          "Adult",
          "Student",
          "Adult",
          "Student",
          "Student",
          "Young",
          "Adult",
          "Senior",
          "Young",
          "Adult",
          "Student",
          "Student",
          "Young",
          "Young",
          "Adult",
          "Young",
          "Young",
          "Adult",
          "Adult",
          "Adult",
          "Adult",
          "Adult",
          "Adult",
          "Student",
          "Adult",
          "Adult",
          "Student",
          "Young",
          "Adult",
          "Student",
          "Student",
          "Young",
          "Young",
          "Young",
          "Student",
          "Student",
          "Student",
          "Student",
          "Adult",
          "Student",
          "Student",
          "Young",
          "Adult",
          "Student",
          "Adult",
          "Young",
          "Adult",
          "Young",
          "Student",
          "Young",
          "Young",
          "Student",
          "Student",
          "Student",
          "Student",
          "Adult",
          "Young",
          "Adult",
          "Adult",
          "Student",
          "Young",
          "Student",
          "Adult",
          "Adult",
          "Young",
          "Adult",
          "Young",
          "Adult",
          "Adult",
          "Student",
          "Young",
          "Student",
          "Adult",
          "Young",
          "Student",
          "Senior",
          "Adult",
          "Young",
          "Young",
          "Young",
          "Young",
          "Young",
          "Student",
          "Young",
          "Adult",
          "Adult",
          "Student",
          "Adult",
          "Adult",
          "Student",
          "Young",
          "Young",
          "Senior",
          "Young",
          "Adult",
          "Student",
          "Adult",
          "Adult",
          "Adult",
          "Student",
          "Young",
          "Young",
          "Adult",
          "Young",
          "Adult",
          "Young",
          "Student",
          "Young",
          "Young",
          "Adult",
          "Young",
          "Student",
          "Young",
          "Adult",
          "Adult",
          "Student",
          "Adult",
          "Young",
          "Young",
          "Student"
         ],
         "y": {
          "bdata": "PxcGE3IUDwXUEK8EAgUjMbQaihI0CP8XsQhEGVUYoQdVOBsHuQd9DzcXRDFUBB0DST6iLjoZrx4GHLkQKweEB38Cqw3nGv4CngkCBWsEjwe2AxAIVg09HWQlZxFvBnQDCRSiAu8RBA9LD9cL3QW3A8kQhgOtFHQH0Sq5HsYFchAfB9s4zwqTA/0RsQFmCGUIIgMSI/QL3i4DEgAEtiToJtwOQAWPJ9cC1QStAroKmRCSB0gH8BxGLQ4QOA37BHAEvwM3GN4EbxFmCakJdg2+OQUe7jewMscEyCH3B6sD9AhlBRMKEgTKCqYEQCzMBWECzwLoEzIH6AXREjoNewYUDMABjgLdBCoMuQR+ILQLSiMzDMAEtwQdBcIa9wLXG3YMzxv+CEcKDwlTHv4FzhgwCzUFcgJXGzMF5giLE+ANiAcKBmUwXAVmGqIMBAsgBFAJ9wfBBMYIngpOBaMDogWRENcKlgMtBxUNbwrlAtgEEAdxDfoFSg8oCp0FEQa8B0sFEhHuAg8SLB9qBbMDrAKCB/8Ilh94A4QD6xIUCtsVYwS7GKAZmQuuBMs2OQWxAcwECgpaBxAZwwcoLbgQ+gTQAxMGBQX3BLMCTAiIMSQMgR9bBUUTRANQGG4XpARXHTck8gadJesLWw9BBZgKfg9FEI8gwAQoLhcJOgQ7FJcHaRrFArsIogV3D3kIhwmiCI4F2Q8bAzg9ORBBCoASWQz4RzA6NwkRDVYF2Bq5AjkohgZ/B+kCkBgVDf0FJQ5hCBEQ3iqmD10J2AmpBIEc6gnwBMIg7BIlIDUH",
          "dtype": "i2"
         }
        }
       ],
       "layout": {
        "annotations": [
         {
          "font": {
           "size": 14
          },
          "showarrow": false,
          "text": "Senior (60-100), Adult (35-60), Young (25-35), Student (18-25)",
          "x": 0.5,
          "xref": "paper",
          "y": 1.2,
          "yref": "paper"
         }
        ],
        "boxmode": "group",
        "template": {
         "data": {
          "bar": [
           {
            "error_x": {
             "color": "#2a3f5f"
            },
            "error_y": {
             "color": "#2a3f5f"
            },
            "marker": {
             "line": {
              "color": "#E5ECF6",
              "width": 0.5
             },
             "pattern": {
              "fillmode": "overlay",
              "size": 10,
              "solidity": 0.2
             }
            },
            "type": "bar"
           }
          ],
          "barpolar": [
           {
            "marker": {
             "line": {
              "color": "#E5ECF6",
              "width": 0.5
             },
             "pattern": {
              "fillmode": "overlay",
              "size": 10,
              "solidity": 0.2
             }
            },
            "type": "barpolar"
           }
          ],
          "carpet": [
           {
            "aaxis": {
             "endlinecolor": "#2a3f5f",
             "gridcolor": "white",
             "linecolor": "white",
             "minorgridcolor": "white",
             "startlinecolor": "#2a3f5f"
            },
            "baxis": {
             "endlinecolor": "#2a3f5f",
             "gridcolor": "white",
             "linecolor": "white",
             "minorgridcolor": "white",
             "startlinecolor": "#2a3f5f"
            },
            "type": "carpet"
           }
          ],
          "choropleth": [
           {
            "colorbar": {
             "outlinewidth": 0,
             "ticks": ""
            },
            "type": "choropleth"
           }
          ],
          "contour": [
           {
            "colorbar": {
             "outlinewidth": 0,
             "ticks": ""
            },
            "colorscale": [
             [
              0,
              "#0d0887"
             ],
             [
              0.1111111111111111,
              "#46039f"
             ],
             [
              0.2222222222222222,
              "#7201a8"
             ],
             [
              0.3333333333333333,
              "#9c179e"
             ],
             [
              0.4444444444444444,
              "#bd3786"
             ],
             [
              0.5555555555555556,
              "#d8576b"
             ],
             [
              0.6666666666666666,
              "#ed7953"
             ],
             [
              0.7777777777777778,
              "#fb9f3a"
             ],
             [
              0.8888888888888888,
              "#fdca26"
             ],
             [
              1,
              "#f0f921"
             ]
            ],
            "type": "contour"
           }
          ],
          "contourcarpet": [
           {
            "colorbar": {
             "outlinewidth": 0,
             "ticks": ""
            },
            "type": "contourcarpet"
           }
          ],
          "heatmap": [
           {
            "colorbar": {
             "outlinewidth": 0,
             "ticks": ""
            },
            "colorscale": [
             [
              0,
              "#0d0887"
             ],
             [
              0.1111111111111111,
              "#46039f"
             ],
             [
              0.2222222222222222,
              "#7201a8"
             ],
             [
              0.3333333333333333,
              "#9c179e"
             ],
             [
              0.4444444444444444,
              "#bd3786"
             ],
             [
              0.5555555555555556,
              "#d8576b"
             ],
             [
              0.6666666666666666,
              "#ed7953"
             ],
             [
              0.7777777777777778,
              "#fb9f3a"
             ],
             [
              0.8888888888888888,
              "#fdca26"
             ],
             [
              1,
              "#f0f921"
             ]
            ],
            "type": "heatmap"
           }
          ],
          "histogram": [
           {
            "marker": {
             "pattern": {
              "fillmode": "overlay",
              "size": 10,
              "solidity": 0.2
             }
            },
            "type": "histogram"
           }
          ],
          "histogram2d": [
           {
            "colorbar": {
             "outlinewidth": 0,
             "ticks": ""
            },
            "colorscale": [
             [
              0,
              "#0d0887"
             ],
             [
              0.1111111111111111,
              "#46039f"
             ],
             [
              0.2222222222222222,
              "#7201a8"
             ],
             [
              0.3333333333333333,
              "#9c179e"
             ],
             [
              0.4444444444444444,
              "#bd3786"
             ],
             [
              0.5555555555555556,
              "#d8576b"
             ],
             [
              0.6666666666666666,
              "#ed7953"
             ],
             [
              0.7777777777777778,
              "#fb9f3a"
             ],
             [
              0.8888888888888888,
              "#fdca26"
             ],
             [
              1,
              "#f0f921"
             ]
            ],
            "type": "histogram2d"
           }
          ],
          "histogram2dcontour": [
           {
            "colorbar": {
             "outlinewidth": 0,
             "ticks": ""
            },
            "colorscale": [
             [
              0,
              "#0d0887"
             ],
             [
              0.1111111111111111,
              "#46039f"
             ],
             [
              0.2222222222222222,
              "#7201a8"
             ],
             [
              0.3333333333333333,
              "#9c179e"
             ],
             [
              0.4444444444444444,
              "#bd3786"
             ],
             [
              0.5555555555555556,
              "#d8576b"
             ],
             [
              0.6666666666666666,
              "#ed7953"
             ],
             [
              0.7777777777777778,
              "#fb9f3a"
             ],
             [
              0.8888888888888888,
              "#fdca26"
             ],
             [
              1,
              "#f0f921"
             ]
            ],
            "type": "histogram2dcontour"
           }
          ],
          "mesh3d": [
           {
            "colorbar": {
             "outlinewidth": 0,
             "ticks": ""
            },
            "type": "mesh3d"
           }
          ],
          "parcoords": [
           {
            "line": {
             "colorbar": {
              "outlinewidth": 0,
              "ticks": ""
             }
            },
            "type": "parcoords"
           }
          ],
          "pie": [
           {
            "automargin": true,
            "type": "pie"
           }
          ],
          "scatter": [
           {
            "fillpattern": {
             "fillmode": "overlay",
             "size": 10,
             "solidity": 0.2
            },
            "type": "scatter"
           }
          ],
          "scatter3d": [
           {
            "line": {
             "colorbar": {
              "outlinewidth": 0,
              "ticks": ""
             }
            },
            "marker": {
             "colorbar": {
              "outlinewidth": 0,
              "ticks": ""
             }
            },
            "type": "scatter3d"
           }
          ],
          "scattercarpet": [
           {
            "marker": {
             "colorbar": {
              "outlinewidth": 0,
              "ticks": ""
             }
            },
            "type": "scattercarpet"
           }
          ],
          "scattergeo": [
           {
            "marker": {
             "colorbar": {
              "outlinewidth": 0,
              "ticks": ""
             }
            },
            "type": "scattergeo"
           }
          ],
          "scattergl": [
           {
            "marker": {
             "colorbar": {
              "outlinewidth": 0,
              "ticks": ""
             }
            },
            "type": "scattergl"
           }
          ],
          "scattermap": [
           {
            "marker": {
             "colorbar": {
              "outlinewidth": 0,
              "ticks": ""
             }
            },
            "type": "scattermap"
           }
          ],
          "scattermapbox": [
           {
            "marker": {
             "colorbar": {
              "outlinewidth": 0,
              "ticks": ""
             }
            },
            "type": "scattermapbox"
           }
          ],
          "scatterpolar": [
           {
            "marker": {
             "colorbar": {
              "outlinewidth": 0,
              "ticks": ""
             }
            },
            "type": "scatterpolar"
           }
          ],
          "scatterpolargl": [
           {
            "marker": {
             "colorbar": {
              "outlinewidth": 0,
              "ticks": ""
             }
            },
            "type": "scatterpolargl"
           }
          ],
          "scatterternary": [
           {
            "marker": {
             "colorbar": {
              "outlinewidth": 0,
              "ticks": ""
             }
            },
            "type": "scatterternary"
           }
          ],
          "surface": [
           {
            "colorbar": {
             "outlinewidth": 0,
             "ticks": ""
            },
            "colorscale": [
             [
              0,
              "#0d0887"
             ],
             [
              0.1111111111111111,
              "#46039f"
             ],
             [
              0.2222222222222222,
              "#7201a8"
             ],
             [
              0.3333333333333333,
              "#9c179e"
             ],
             [
              0.4444444444444444,
              "#bd3786"
             ],
             [
              0.5555555555555556,
              "#d8576b"
             ],
             [
              0.6666666666666666,
              "#ed7953"
             ],
             [
              0.7777777777777778,
              "#fb9f3a"
             ],
             [
              0.8888888888888888,
              "#fdca26"
             ],
             [
              1,
              "#f0f921"
             ]
            ],
            "type": "surface"
           }
          ],
          "table": [
           {
            "cells": {
             "fill": {
              "color": "#EBF0F8"
             },
             "line": {
              "color": "white"
             }
            },
            "header": {
             "fill": {
              "color": "#C8D4E3"
             },
             "line": {
              "color": "white"
             }
            },
            "type": "table"
           }
          ]
         },
         "layout": {
          "annotationdefaults": {
           "arrowcolor": "#2a3f5f",
           "arrowhead": 0,
           "arrowwidth": 1
          },
          "autotypenumbers": "strict",
          "coloraxis": {
           "colorbar": {
            "outlinewidth": 0,
            "ticks": ""
           }
          },
          "colorscale": {
           "diverging": [
            [
             0,
             "#8e0152"
            ],
            [
             0.1,
             "#c51b7d"
            ],
            [
             0.2,
             "#de77ae"
            ],
            [
             0.3,
             "#f1b6da"
            ],
            [
             0.4,
             "#fde0ef"
            ],
            [
             0.5,
             "#f7f7f7"
            ],
            [
             0.6,
             "#e6f5d0"
            ],
            [
             0.7,
             "#b8e186"
            ],
            [
             0.8,
             "#7fbc41"
            ],
            [
             0.9,
             "#4d9221"
            ],
            [
             1,
             "#276419"
            ]
           ],
           "sequential": [
            [
             0,
             "#0d0887"
            ],
            [
             0.1111111111111111,
             "#46039f"
            ],
            [
             0.2222222222222222,
             "#7201a8"
            ],
            [
             0.3333333333333333,
             "#9c179e"
            ],
            [
             0.4444444444444444,
             "#bd3786"
            ],
            [
             0.5555555555555556,
             "#d8576b"
            ],
            [
             0.6666666666666666,
             "#ed7953"
            ],
            [
             0.7777777777777778,
             "#fb9f3a"
            ],
            [
             0.8888888888888888,
             "#fdca26"
            ],
            [
             1,
             "#f0f921"
            ]
           ],
           "sequentialminus": [
            [
             0,
             "#0d0887"
            ],
            [
             0.1111111111111111,
             "#46039f"
            ],
            [
             0.2222222222222222,
             "#7201a8"
            ],
            [
             0.3333333333333333,
             "#9c179e"
            ],
            [
             0.4444444444444444,
             "#bd3786"
            ],
            [
             0.5555555555555556,
             "#d8576b"
            ],
            [
             0.6666666666666666,
             "#ed7953"
            ],
            [
             0.7777777777777778,
             "#fb9f3a"
            ],
            [
             0.8888888888888888,
             "#fdca26"
            ],
            [
             1,
             "#f0f921"
            ]
           ]
          },
          "colorway": [
           "#636efa",
           "#EF553B",
           "#00cc96",
           "#ab63fa",
           "#FFA15A",
           "#19d3f3",
           "#FF6692",
           "#B6E880",
           "#FF97FF",
           "#FECB52"
          ],
          "font": {
           "color": "#2a3f5f"
          },
          "geo": {
           "bgcolor": "white",
           "lakecolor": "white",
           "landcolor": "#E5ECF6",
           "showlakes": true,
           "showland": true,
           "subunitcolor": "white"
          },
          "hoverlabel": {
           "align": "left"
          },
          "hovermode": "closest",
          "mapbox": {
           "style": "light"
          },
          "paper_bgcolor": "white",
          "plot_bgcolor": "#E5ECF6",
          "polar": {
           "angularaxis": {
            "gridcolor": "white",
            "linecolor": "white",
            "ticks": ""
           },
           "bgcolor": "#E5ECF6",
           "radialaxis": {
            "gridcolor": "white",
            "linecolor": "white",
            "ticks": ""
           }
          },
          "scene": {
           "xaxis": {
            "backgroundcolor": "#E5ECF6",
            "gridcolor": "white",
            "gridwidth": 2,
            "linecolor": "white",
            "showbackground": true,
            "ticks": "",
            "zerolinecolor": "white"
           },
           "yaxis": {
            "backgroundcolor": "#E5ECF6",
            "gridcolor": "white",
            "gridwidth": 2,
            "linecolor": "white",
            "showbackground": true,
            "ticks": "",
            "zerolinecolor": "white"
           },
           "zaxis": {
            "backgroundcolor": "#E5ECF6",
            "gridcolor": "white",
            "gridwidth": 2,
            "linecolor": "white",
            "showbackground": true,
            "ticks": "",
            "zerolinecolor": "white"
           }
          },
          "shapedefaults": {
           "line": {
            "color": "#2a3f5f"
           }
          },
          "ternary": {
           "aaxis": {
            "gridcolor": "white",
            "linecolor": "white",
            "ticks": ""
           },
           "baxis": {
            "gridcolor": "white",
            "linecolor": "white",
            "ticks": ""
           },
           "bgcolor": "#E5ECF6",
           "caxis": {
            "gridcolor": "white",
            "linecolor": "white",
            "ticks": ""
           }
          },
          "title": {
           "x": 0.05
          },
          "xaxis": {
           "automargin": true,
           "gridcolor": "white",
           "linecolor": "white",
           "ticks": "",
           "title": {
            "standoff": 15
           },
           "zerolinecolor": "white",
           "zerolinewidth": 2
          },
          "yaxis": {
           "automargin": true,
           "gridcolor": "white",
           "linecolor": "white",
           "ticks": "",
           "title": {
            "standoff": 15
           },
           "zerolinecolor": "white",
           "zerolinewidth": 2
          }
         }
        },
        "title": {
         "text": "Age Categorical"
        },
        "xaxis": {
         "title": {
          "text": "Age category"
         }
        },
        "yaxis": {
         "title": {
          "text": "Credit Amount (US Dollar)"
         },
         "zeroline": false
        }
       }
      },
      "image/png": "[encoded data removed]"
     },
     "metadata": {},
     "output_type": "display_data"
    },
    {
     "name": "stdout",
     "output_type": "stream",
     "text": [
      "INFO:matplotlib.category:Using categorical units to plot a list of strings that are all parsable as floats or dates. If these strings should be plotted as numbers, cast to the appropriate data type before plotting.\n",
      "INFO:matplotlib.category:Using categorical units to plot a list of strings that are all parsable as floats or dates. If these strings should be plotted as numbers, cast to the appropriate data type before plotting.\n",
      "INFO:matplotlib.category:Using categorical units to plot a list of strings that are all parsable as floats or dates. If these strings should be plotted as numbers, cast to the appropriate data type before plotting.\n",
      "INFO:matplotlib.category:Using categorical units to plot a list of strings that are all parsable as floats or dates. If these strings should be plotted as numbers, cast to the appropriate data type before plotting.\n",
      "INFO:matplotlib.category:Using categorical units to plot a list of strings that are all parsable as floats or dates. If these strings should be plotted as numbers, cast to the appropriate data type before plotting.\n",
      "INFO:matplotlib.category:Using categorical units to plot a list of strings that are all parsable as floats or dates. If these strings should be plotted as numbers, cast to the appropriate data type before plotting.\n",
      "INFO:matplotlib.category:Using categorical units to plot a list of strings that are all parsable as floats or dates. If these strings should be plotted as numbers, cast to the appropriate data type before plotting.\n",
      "INFO:matplotlib.category:Using categorical units to plot a list of strings that are all parsable as floats or dates. If these strings should be plotted as numbers, cast to the appropriate data type before plotting.\n",
      "INFO:matplotlib.category:Using categorical units to plot a list of strings that are all parsable as floats or dates. If these strings should be plotted as numbers, cast to the appropriate data type before plotting.\n",
      "INFO:matplotlib.category:Using categorical units to plot a list of strings that are all parsable as floats or dates. If these strings should be plotted as numbers, cast to the appropriate data type before plotting.\n",
      "INFO:matplotlib.category:Using categorical units to plot a list of strings that are all parsable as floats or dates. If these strings should be plotted as numbers, cast to the appropriate data type before plotting.\n",
      "INFO:matplotlib.category:Using categorical units to plot a list of strings that are all parsable as floats or dates. If these strings should be plotted as numbers, cast to the appropriate data type before plotting.\n",
      "INFO:matplotlib.category:Using categorical units to plot a list of strings that are all parsable as floats or dates. If these strings should be plotted as numbers, cast to the appropriate data type before plotting.\n",
      "INFO:matplotlib.category:Using categorical units to plot a list of strings that are all parsable as floats or dates. If these strings should be plotted as numbers, cast to the appropriate data type before plotting.\n",
      "INFO:matplotlib.category:Using categorical units to plot a list of strings that are all parsable as floats or dates. If these strings should be plotted as numbers, cast to the appropriate data type before plotting.\n",
      "INFO:matplotlib.category:Using categorical units to plot a list of strings that are all parsable as floats or dates. If these strings should be plotted as numbers, cast to the appropriate data type before plotting.\n"
     ]
    },
    {
     "data": {
      "image/png": "[encoded data removed]",
      "text/plain": [
       "<Figure size 1500x600 with 8 Axes>"
      ]
     },
     "metadata": {},
     "output_type": "display_data"
    }
   ],
   "source": [
    "analyse_per_generation(df)\n",
    "risk_per_credit_amount_bin(df)\n",
    "\n",
    "if \"Generation\" not in categorical_cols: categorical_cols += [\"Generation\"]\n",
    "if 'Age' in numeric_cols: numeric_cols.remove('Age')\n",
    "\n",
    "if \"Amount\" not in categorical_cols: categorical_cols += [\"Amount\"]\n",
    "if 'Credit amount' in numeric_cols: numeric_cols.remove('Credit amount')"
   ]
  },
  {
   "cell_type": "markdown",
   "metadata": {},
   "source": [
    "# Risk Correlation"
   ]
  },
  {
   "cell_type": "code",
   "execution_count": 10,
   "metadata": {},
   "outputs": [
    {
     "name": "stdout",
     "output_type": "stream",
     "text": [
      "INFO:matplotlib.category:Using categorical units to plot a list of strings that are all parsable as floats or dates. If these strings should be plotted as numbers, cast to the appropriate data type before plotting.\n",
      "INFO:matplotlib.category:Using categorical units to plot a list of strings that are all parsable as floats or dates. If these strings should be plotted as numbers, cast to the appropriate data type before plotting.\n",
      "INFO:matplotlib.category:Using categorical units to plot a list of strings that are all parsable as floats or dates. If these strings should be plotted as numbers, cast to the appropriate data type before plotting.\n",
      "INFO:matplotlib.category:Using categorical units to plot a list of strings that are all parsable as floats or dates. If these strings should be plotted as numbers, cast to the appropriate data type before plotting.\n"
     ]
    },
    {
     "data": {
      "image/png": "[encoded data removed]",
      "text/plain": [
       "<Figure size 1800x1200 with 8 Axes>"
      ]
     },
     "metadata": {},
     "output_type": "display_data"
    }
   ],
   "source": [
    "risk_correlation(df, categorical_cols)"
   ]
  },
  {
   "cell_type": "code",
   "execution_count": 11,
   "metadata": {},
   "outputs": [
    {
     "data": {
      "image/png": "[encoded data removed]",
      "text/plain": [
       "<Figure size 1200x600 with 2 Axes>"
      ]
     },
     "metadata": {},
     "output_type": "display_data"
    }
   ],
   "source": [
    "risk_heatmap(df, categorical_cols)"
   ]
  },
  {
   "cell_type": "markdown",
   "metadata": {
    "_uuid": "fc4cdbe7701069d2bf7c7309c865fa63374238f8"
   },
   "source": [
    "---\n",
    "\n",
    "# Featur Engineering\n",
    "\n",
    "NOTE/TODO: Need to set aside the test data."
   ]
  },
  {
   "cell_type": "code",
   "execution_count": 12,
   "metadata": {},
   "outputs": [],
   "source": [
    "df_train = df[numeric_cols + categorical_cols]"
   ]
  },
  {
   "cell_type": "markdown",
   "metadata": {},
   "source": [
    "### Imputation of missing values"
   ]
  },
  {
   "cell_type": "code",
   "execution_count": 13,
   "metadata": {},
   "outputs": [],
   "source": [
    "df_train['Saving accounts'] = df_train['Saving accounts'].fillna('no_inf')\n",
    "df_train['Checking account'] = df_train['Checking account'].fillna('no_inf')"
   ]
  },
  {
   "cell_type": "markdown",
   "metadata": {
    "_uuid": "d3ac3838812794fd1b1213732fe5ebe4d22d6775"
   },
   "source": [
    "### Categorical to One Hot Encoding"
   ]
  },
  {
   "cell_type": "code",
   "execution_count": 14,
   "metadata": {
    "_uuid": "bd8cedad464868cff47f03f01a83c902a4a60644"
   },
   "outputs": [],
   "source": [
    "df_train = df_train.merge(pd.get_dummies(df_train.Purpose, drop_first=False, prefix='purpose', dtype=np.float32), left_index=True, right_index=True)\n",
    "df_train = df_train.merge(pd.get_dummies(df_train.Sex, drop_first=False, prefix='gender', dtype=np.float32), left_index=True, right_index=True)\n",
    "df_train = df_train.merge(pd.get_dummies(df_train.Housing, drop_first=False, prefix='property', dtype=np.float32), left_index=True, right_index=True)\n",
    "df_train = df_train.merge(pd.get_dummies(df_train[\"Saving accounts\"], drop_first=False, prefix='savings', dtype=np.float32), left_index=True, right_index=True)\n",
    "df_train = df_train.merge(pd.get_dummies(df_train[\"Checking account\"], drop_first=False, prefix='check', dtype=np.float32), left_index=True, right_index=True)\n",
    "df_train = df_train.merge(pd.get_dummies(df_train[\"Generation\"], drop_first=False, prefix='generation', dtype=np.float32), left_index=True, right_index=True)\n",
    "df_train = df_train.merge(pd.get_dummies(df_train[\"Job\"], drop_first=False, prefix='job', dtype=np.float32), left_index=True, right_index=True)\n",
    "df_train = df_train.merge(pd.get_dummies(df_train[\"Amount\"], drop_first=False, prefix='amount', dtype=np.float32), left_index=True, right_index=True)"
   ]
  },
  {
   "cell_type": "markdown",
   "metadata": {},
   "source": [
    "### Drop unused columns"
   ]
  },
  {
   "cell_type": "code",
   "execution_count": 15,
   "metadata": {
    "_uuid": "338474de1adaa3ff6075f0eef44cb3eec08bd9a3"
   },
   "outputs": [],
   "source": [
    "del df_train[\"Saving accounts\"]\n",
    "del df_train[\"Checking account\"]\n",
    "del df_train[\"Purpose\"]\n",
    "del df_train[\"Sex\"]\n",
    "del df_train[\"Housing\"]\n",
    "del df_train[\"Job\"]\n",
    "del df_train[\"Duration\"]\n",
    "del df_train[\"Generation\"]\n",
    "del df_train['Amount']"
   ]
  },
  {
   "cell_type": "markdown",
   "metadata": {},
   "source": [
    "### Normalize column names"
   ]
  },
  {
   "cell_type": "code",
   "execution_count": 16,
   "metadata": {},
   "outputs": [],
   "source": [
    "df_train.rename(columns={\n",
    "    \"purpose_domestic appliances\": \"purpose_domestic_appliances\",\n",
    "    \"purpose_furniture/equipment\": \"purpose_furniture_equipment\",\n",
    "    \"purpose_radio/TV\": \"purpose_radio_tv\",\n",
    "    \"purpose_vacation/others\": \"purpose_vacation_others\",\n",
    "    \"savings_quite rich\": \"savings_quite_rich\",\n",
    "    \"generation_Student\": \"generation_student\",\n",
    "    \"generation_Young\": \"generation_young\",\n",
    "    \"generation_Adult\": \"generation_adult\",\n",
    "    \"generation_Senior\": \"generation_senior\"\n",
    "}, inplace=True)"
   ]
  },
  {
   "cell_type": "markdown",
   "metadata": {
    "_uuid": "34718c735d0ddbd8ad676e34cba8950755998809"
   },
   "source": [
    "# Features for Model Consumption\n",
    "\n",
    "Verify the features to be consumed by the Model Training"
   ]
  },
  {
   "cell_type": "code",
   "execution_count": 17,
   "metadata": {},
   "outputs": [
    {
     "name": "stdout",
     "output_type": "stream",
     "text": [
      "<class 'pandas.core.frame.DataFrame'>\n",
      "Index: 1000 entries, 0 to 999\n",
      "Data columns (total 34 columns):\n",
      " #   Column                       Non-Null Count  Dtype  \n",
      "---  ------                       --------------  -----  \n",
      " 0   purpose_business             1000 non-null   float32\n",
      " 1   purpose_car                  1000 non-null   float32\n",
      " 2   purpose_domestic_appliances  1000 non-null   float32\n",
      " 3   purpose_education            1000 non-null   float32\n",
      " 4   purpose_furniture_equipment  1000 non-null   float32\n",
      " 5   purpose_radio_tv             1000 non-null   float32\n",
      " 6   purpose_repairs              1000 non-null   float32\n",
      " 7   purpose_vacation_others      1000 non-null   float32\n",
      " 8   gender_female                1000 non-null   float32\n",
      " 9   gender_male                  1000 non-null   float32\n",
      " 10  property_free                1000 non-null   float32\n",
      " 11  property_own                 1000 non-null   float32\n",
      " 12  property_rent                1000 non-null   float32\n",
      " 13  savings_little               1000 non-null   float32\n",
      " 14  savings_moderate             1000 non-null   float32\n",
      " 15  savings_no_inf               1000 non-null   float32\n",
      " 16  savings_quite_rich           1000 non-null   float32\n",
      " 17  savings_rich                 1000 non-null   float32\n",
      " 18  check_little                 1000 non-null   float32\n",
      " 19  check_moderate               1000 non-null   float32\n",
      " 20  check_no_inf                 1000 non-null   float32\n",
      " 21  check_rich                   1000 non-null   float32\n",
      " 22  generation_student           1000 non-null   float32\n",
      " 23  generation_young             1000 non-null   float32\n",
      " 24  generation_adult             1000 non-null   float32\n",
      " 25  generation_senior            1000 non-null   float32\n",
      " 26  job_0                        1000 non-null   float32\n",
      " 27  job_1                        1000 non-null   float32\n",
      " 28  job_2                        1000 non-null   float32\n",
      " 29  job_3                        1000 non-null   float32\n",
      " 30  amount_0                     1000 non-null   float32\n",
      " 31  amount_1                     1000 non-null   float32\n",
      " 32  amount_2                     1000 non-null   float32\n",
      " 33  amount_3                     1000 non-null   float32\n",
      "dtypes: float32(34)\n",
      "memory usage: 140.6 KB\n"
     ]
    }
   ],
   "source": [
    "df_train.info()"
   ]
  },
  {
   "cell_type": "code",
   "execution_count": 18,
   "metadata": {},
   "outputs": [
    {
     "data": {
      "text/html": [
       "<div>\n",
       "<style scoped>\n",
       "    .dataframe tbody tr th:only-of-type {\n",
       "        vertical-align: middle;\n",
       "    }\n",
       "\n",
       "    .dataframe tbody tr th {\n",
       "        vertical-align: top;\n",
       "    }\n",
       "\n",
       "    .dataframe thead th {\n",
       "        text-align: right;\n",
       "    }\n",
       "</style>\n",
       "<table border=\"1\" class=\"dataframe\">\n",
       "  <thead>\n",
       "    <tr style=\"text-align: right;\">\n",
       "      <th></th>\n",
       "      <th>purpose_business</th>\n",
       "      <th>purpose_car</th>\n",
       "      <th>purpose_domestic_appliances</th>\n",
       "      <th>purpose_education</th>\n",
       "      <th>purpose_furniture_equipment</th>\n",
       "      <th>purpose_radio_tv</th>\n",
       "      <th>purpose_repairs</th>\n",
       "      <th>purpose_vacation_others</th>\n",
       "      <th>gender_female</th>\n",
       "      <th>gender_male</th>\n",
       "      <th>...</th>\n",
       "      <th>generation_adult</th>\n",
       "      <th>generation_senior</th>\n",
       "      <th>job_0</th>\n",
       "      <th>job_1</th>\n",
       "      <th>job_2</th>\n",
       "      <th>job_3</th>\n",
       "      <th>amount_0</th>\n",
       "      <th>amount_1</th>\n",
       "      <th>amount_2</th>\n",
       "      <th>amount_3</th>\n",
       "    </tr>\n",
       "  </thead>\n",
       "  <tbody>\n",
       "    <tr>\n",
       "      <th>0</th>\n",
       "      <td>0.0</td>\n",
       "      <td>0.0</td>\n",
       "      <td>0.0</td>\n",
       "      <td>0.0</td>\n",
       "      <td>0.0</td>\n",
       "      <td>1.0</td>\n",
       "      <td>0.0</td>\n",
       "      <td>0.0</td>\n",
       "      <td>0.0</td>\n",
       "      <td>1.0</td>\n",
       "      <td>...</td>\n",
       "      <td>0.0</td>\n",
       "      <td>1.0</td>\n",
       "      <td>0.0</td>\n",
       "      <td>0.0</td>\n",
       "      <td>1.0</td>\n",
       "      <td>0.0</td>\n",
       "      <td>1.0</td>\n",
       "      <td>0.0</td>\n",
       "      <td>0.0</td>\n",
       "      <td>0.0</td>\n",
       "    </tr>\n",
       "    <tr>\n",
       "      <th>1</th>\n",
       "      <td>0.0</td>\n",
       "      <td>0.0</td>\n",
       "      <td>0.0</td>\n",
       "      <td>0.0</td>\n",
       "      <td>0.0</td>\n",
       "      <td>1.0</td>\n",
       "      <td>0.0</td>\n",
       "      <td>0.0</td>\n",
       "      <td>1.0</td>\n",
       "      <td>0.0</td>\n",
       "      <td>...</td>\n",
       "      <td>0.0</td>\n",
       "      <td>0.0</td>\n",
       "      <td>0.0</td>\n",
       "      <td>0.0</td>\n",
       "      <td>1.0</td>\n",
       "      <td>0.0</td>\n",
       "      <td>0.0</td>\n",
       "      <td>1.0</td>\n",
       "      <td>0.0</td>\n",
       "      <td>0.0</td>\n",
       "    </tr>\n",
       "    <tr>\n",
       "      <th>2</th>\n",
       "      <td>0.0</td>\n",
       "      <td>0.0</td>\n",
       "      <td>0.0</td>\n",
       "      <td>1.0</td>\n",
       "      <td>0.0</td>\n",
       "      <td>0.0</td>\n",
       "      <td>0.0</td>\n",
       "      <td>0.0</td>\n",
       "      <td>0.0</td>\n",
       "      <td>1.0</td>\n",
       "      <td>...</td>\n",
       "      <td>1.0</td>\n",
       "      <td>0.0</td>\n",
       "      <td>0.0</td>\n",
       "      <td>1.0</td>\n",
       "      <td>0.0</td>\n",
       "      <td>0.0</td>\n",
       "      <td>1.0</td>\n",
       "      <td>0.0</td>\n",
       "      <td>0.0</td>\n",
       "      <td>0.0</td>\n",
       "    </tr>\n",
       "    <tr>\n",
       "      <th>3</th>\n",
       "      <td>0.0</td>\n",
       "      <td>0.0</td>\n",
       "      <td>0.0</td>\n",
       "      <td>0.0</td>\n",
       "      <td>1.0</td>\n",
       "      <td>0.0</td>\n",
       "      <td>0.0</td>\n",
       "      <td>0.0</td>\n",
       "      <td>0.0</td>\n",
       "      <td>1.0</td>\n",
       "      <td>...</td>\n",
       "      <td>1.0</td>\n",
       "      <td>0.0</td>\n",
       "      <td>0.0</td>\n",
       "      <td>0.0</td>\n",
       "      <td>1.0</td>\n",
       "      <td>0.0</td>\n",
       "      <td>0.0</td>\n",
       "      <td>1.0</td>\n",
       "      <td>0.0</td>\n",
       "      <td>0.0</td>\n",
       "    </tr>\n",
       "    <tr>\n",
       "      <th>4</th>\n",
       "      <td>0.0</td>\n",
       "      <td>1.0</td>\n",
       "      <td>0.0</td>\n",
       "      <td>0.0</td>\n",
       "      <td>0.0</td>\n",
       "      <td>0.0</td>\n",
       "      <td>0.0</td>\n",
       "      <td>0.0</td>\n",
       "      <td>0.0</td>\n",
       "      <td>1.0</td>\n",
       "      <td>...</td>\n",
       "      <td>1.0</td>\n",
       "      <td>0.0</td>\n",
       "      <td>0.0</td>\n",
       "      <td>0.0</td>\n",
       "      <td>1.0</td>\n",
       "      <td>0.0</td>\n",
       "      <td>1.0</td>\n",
       "      <td>0.0</td>\n",
       "      <td>0.0</td>\n",
       "      <td>0.0</td>\n",
       "    </tr>\n",
       "  </tbody>\n",
       "</table>\n",
       "<p>5 rows × 34 columns</p>\n",
       "</div>"
      ],
      "text/plain": [
       "   purpose_business  purpose_car  purpose_domestic_appliances  purpose_education  purpose_furniture_equipment  purpose_radio_tv  purpose_repairs  purpose_vacation_others  gender_female  gender_male  ...  generation_adult  generation_senior  job_0  job_1  job_2  job_3  amount_0  amount_1  amount_2  amount_3\n",
       "0               0.0          0.0                          0.0                0.0                          0.0               1.0              0.0                      0.0            0.0          1.0  ...               0.0                1.0    0.0    0.0    1.0    0.0       1.0       0.0       0.0       0.0\n",
       "1               0.0          0.0                          0.0                0.0                          0.0               1.0              0.0                      0.0            1.0          0.0  ...               0.0                0.0    0.0    0.0    1.0    0.0       0.0       1.0       0.0       0.0\n",
       "2               0.0          0.0                          0.0                1.0                          0.0               0.0              0.0                      0.0            0.0          1.0  ...               1.0                0.0    0.0    1.0    0.0    0.0       1.0       0.0       0.0       0.0\n",
       "3               0.0          0.0                          0.0                0.0                          1.0               0.0              0.0                      0.0            0.0          1.0  ...               1.0                0.0    0.0    0.0    1.0    0.0       0.0       1.0       0.0       0.0\n",
       "4               0.0          1.0                          0.0                0.0                          0.0               0.0              0.0                      0.0            0.0          1.0  ...               1.0                0.0    0.0    0.0    1.0    0.0       1.0       0.0       0.0       0.0\n",
       "\n",
       "[5 rows x 34 columns]"
      ]
     },
     "execution_count": 18,
     "metadata": {},
     "output_type": "execute_result"
    }
   ],
   "source": [
    "df_train.head()"
   ]
  },
  {
   "cell_type": "markdown",
   "metadata": {},
   "source": [
    "## Save Features to csv"
   ]
  },
  {
   "cell_type": "code",
   "execution_count": 19,
   "metadata": {},
   "outputs": [],
   "source": [
    "df_train.to_csv(f\"../data/processed/customer_credit_risk_features.csv\", index=False)"
   ]
  },
  {
   "cell_type": "markdown",
   "metadata": {},
   "source": [
    "## Dummpy fields for FEAST\n",
    "\n",
    "FEAST requires time-series data structure and an entity key of each time-series record."
   ]
  },
  {
   "cell_type": "code",
   "execution_count": 20,
   "metadata": {},
   "outputs": [
    {
     "data": {
      "text/html": [
       "<div>\n",
       "<style scoped>\n",
       "    .dataframe tbody tr th:only-of-type {\n",
       "        vertical-align: middle;\n",
       "    }\n",
       "\n",
       "    .dataframe tbody tr th {\n",
       "        vertical-align: top;\n",
       "    }\n",
       "\n",
       "    .dataframe thead th {\n",
       "        text-align: right;\n",
       "    }\n",
       "</style>\n",
       "<table border=\"1\" class=\"dataframe\">\n",
       "  <thead>\n",
       "    <tr style=\"text-align: right;\">\n",
       "      <th></th>\n",
       "      <th>purpose_business</th>\n",
       "      <th>purpose_car</th>\n",
       "      <th>purpose_domestic_appliances</th>\n",
       "      <th>purpose_education</th>\n",
       "      <th>purpose_furniture_equipment</th>\n",
       "      <th>purpose_radio_tv</th>\n",
       "      <th>purpose_repairs</th>\n",
       "      <th>purpose_vacation_others</th>\n",
       "      <th>gender_female</th>\n",
       "      <th>gender_male</th>\n",
       "      <th>...</th>\n",
       "      <th>job_1</th>\n",
       "      <th>job_2</th>\n",
       "      <th>job_3</th>\n",
       "      <th>amount_0</th>\n",
       "      <th>amount_1</th>\n",
       "      <th>amount_2</th>\n",
       "      <th>amount_3</th>\n",
       "      <th>event_timestamp</th>\n",
       "      <th>created</th>\n",
       "      <th>entity_id</th>\n",
       "    </tr>\n",
       "  </thead>\n",
       "  <tbody>\n",
       "    <tr>\n",
       "      <th>0</th>\n",
       "      <td>0.0</td>\n",
       "      <td>0.0</td>\n",
       "      <td>0.0</td>\n",
       "      <td>0.0</td>\n",
       "      <td>0.0</td>\n",
       "      <td>1.0</td>\n",
       "      <td>0.0</td>\n",
       "      <td>0.0</td>\n",
       "      <td>0.0</td>\n",
       "      <td>1.0</td>\n",
       "      <td>...</td>\n",
       "      <td>0.0</td>\n",
       "      <td>1.0</td>\n",
       "      <td>0.0</td>\n",
       "      <td>1.0</td>\n",
       "      <td>0.0</td>\n",
       "      <td>0.0</td>\n",
       "      <td>0.0</td>\n",
       "      <td>2025-09-14 12:51:16.155563</td>\n",
       "      <td>2025-09-14 12:51:16.155563</td>\n",
       "      <td>1</td>\n",
       "    </tr>\n",
       "    <tr>\n",
       "      <th>1</th>\n",
       "      <td>0.0</td>\n",
       "      <td>0.0</td>\n",
       "      <td>0.0</td>\n",
       "      <td>0.0</td>\n",
       "      <td>0.0</td>\n",
       "      <td>1.0</td>\n",
       "      <td>0.0</td>\n",
       "      <td>0.0</td>\n",
       "      <td>1.0</td>\n",
       "      <td>0.0</td>\n",
       "      <td>...</td>\n",
       "      <td>0.0</td>\n",
       "      <td>1.0</td>\n",
       "      <td>0.0</td>\n",
       "      <td>0.0</td>\n",
       "      <td>1.0</td>\n",
       "      <td>0.0</td>\n",
       "      <td>0.0</td>\n",
       "      <td>2025-09-14 12:51:16.155563</td>\n",
       "      <td>2025-09-14 12:51:16.155563</td>\n",
       "      <td>2</td>\n",
       "    </tr>\n",
       "    <tr>\n",
       "      <th>2</th>\n",
       "      <td>0.0</td>\n",
       "      <td>0.0</td>\n",
       "      <td>0.0</td>\n",
       "      <td>1.0</td>\n",
       "      <td>0.0</td>\n",
       "      <td>0.0</td>\n",
       "      <td>0.0</td>\n",
       "      <td>0.0</td>\n",
       "      <td>0.0</td>\n",
       "      <td>1.0</td>\n",
       "      <td>...</td>\n",
       "      <td>1.0</td>\n",
       "      <td>0.0</td>\n",
       "      <td>0.0</td>\n",
       "      <td>1.0</td>\n",
       "      <td>0.0</td>\n",
       "      <td>0.0</td>\n",
       "      <td>0.0</td>\n",
       "      <td>2025-09-14 12:51:16.155563</td>\n",
       "      <td>2025-09-14 12:51:16.155563</td>\n",
       "      <td>3</td>\n",
       "    </tr>\n",
       "    <tr>\n",
       "      <th>3</th>\n",
       "      <td>0.0</td>\n",
       "      <td>0.0</td>\n",
       "      <td>0.0</td>\n",
       "      <td>0.0</td>\n",
       "      <td>1.0</td>\n",
       "      <td>0.0</td>\n",
       "      <td>0.0</td>\n",
       "      <td>0.0</td>\n",
       "      <td>0.0</td>\n",
       "      <td>1.0</td>\n",
       "      <td>...</td>\n",
       "      <td>0.0</td>\n",
       "      <td>1.0</td>\n",
       "      <td>0.0</td>\n",
       "      <td>0.0</td>\n",
       "      <td>1.0</td>\n",
       "      <td>0.0</td>\n",
       "      <td>0.0</td>\n",
       "      <td>2025-09-14 12:51:16.155563</td>\n",
       "      <td>2025-09-14 12:51:16.155563</td>\n",
       "      <td>4</td>\n",
       "    </tr>\n",
       "    <tr>\n",
       "      <th>4</th>\n",
       "      <td>0.0</td>\n",
       "      <td>1.0</td>\n",
       "      <td>0.0</td>\n",
       "      <td>0.0</td>\n",
       "      <td>0.0</td>\n",
       "      <td>0.0</td>\n",
       "      <td>0.0</td>\n",
       "      <td>0.0</td>\n",
       "      <td>0.0</td>\n",
       "      <td>1.0</td>\n",
       "      <td>...</td>\n",
       "      <td>0.0</td>\n",
       "      <td>1.0</td>\n",
       "      <td>0.0</td>\n",
       "      <td>1.0</td>\n",
       "      <td>0.0</td>\n",
       "      <td>0.0</td>\n",
       "      <td>0.0</td>\n",
       "      <td>2025-09-14 12:51:16.155563</td>\n",
       "      <td>2025-09-14 12:51:16.155563</td>\n",
       "      <td>5</td>\n",
       "    </tr>\n",
       "  </tbody>\n",
       "</table>\n",
       "<p>5 rows × 37 columns</p>\n",
       "</div>"
      ],
      "text/plain": [
       "   purpose_business  purpose_car  purpose_domestic_appliances  purpose_education  purpose_furniture_equipment  purpose_radio_tv  purpose_repairs  purpose_vacation_others  gender_female  gender_male  ...  job_1  job_2  job_3  amount_0  amount_1  amount_2  amount_3            event_timestamp                    created  entity_id\n",
       "0               0.0          0.0                          0.0                0.0                          0.0               1.0              0.0                      0.0            0.0          1.0  ...    0.0    1.0    0.0       1.0       0.0       0.0       0.0 2025-09-14 12:51:16.155563 2025-09-14 12:51:16.155563          1\n",
       "1               0.0          0.0                          0.0                0.0                          0.0               1.0              0.0                      0.0            1.0          0.0  ...    0.0    1.0    0.0       0.0       1.0       0.0       0.0 2025-09-14 12:51:16.155563 2025-09-14 12:51:16.155563          2\n",
       "2               0.0          0.0                          0.0                1.0                          0.0               0.0              0.0                      0.0            0.0          1.0  ...    1.0    0.0    0.0       1.0       0.0       0.0       0.0 2025-09-14 12:51:16.155563 2025-09-14 12:51:16.155563          3\n",
       "3               0.0          0.0                          0.0                0.0                          1.0               0.0              0.0                      0.0            0.0          1.0  ...    0.0    1.0    0.0       0.0       1.0       0.0       0.0 2025-09-14 12:51:16.155563 2025-09-14 12:51:16.155563          4\n",
       "4               0.0          1.0                          0.0                0.0                          0.0               0.0              0.0                      0.0            0.0          1.0  ...    0.0    1.0    0.0       1.0       0.0       0.0       0.0 2025-09-14 12:51:16.155563 2025-09-14 12:51:16.155563          5\n",
       "\n",
       "[5 rows x 37 columns]"
      ]
     },
     "execution_count": 20,
     "metadata": {},
     "output_type": "execute_result"
    }
   ],
   "source": [
    "timestamp = datetime.now()\n",
    "\n",
    "df_train['event_timestamp'] = pd.Series([timestamp] * len(df))\n",
    "df_train['created'] = df_train['event_timestamp']\n",
    "df_train['entity_id'] = range(1, len(df) + 1)\n",
    "\n",
    "df_train.head(5)"
   ]
  },
  {
   "cell_type": "markdown",
   "metadata": {},
   "source": [
    "--- \n",
    "# Features to Offline Store\n"
   ]
  },
  {
   "cell_type": "markdown",
   "metadata": {},
   "source": [
    "## Offline Store Paramters"
   ]
  },
  {
   "cell_type": "code",
   "execution_count": 21,
   "metadata": {},
   "outputs": [
    {
     "name": "stdout",
     "output_type": "stream",
     "text": [
      "INFO:root:✅ Successfully loaded YAML: ../deployment/feast/feature_repository/feature_store.yaml\n"
     ]
    },
    {
     "data": {
      "text/plain": [
       "{'host': 'localhost',\n",
       " 'port': 5432,\n",
       " 'database': 'offline_features',\n",
       " 'user': 'dbadm',\n",
       " 'schema': 'credit',\n",
       " 'table_name': 'customer_credit_risk_offline_features'}"
      ]
     },
     "execution_count": 21,
     "metadata": {},
     "output_type": "execute_result"
    }
   ],
   "source": [
    "feature_store_config = read_yaml(\"../deployment/feast/feature_repository/feature_store.yaml\")\n",
    "offline_store_config = feature_store_config['offline_store']\n",
    "\n",
    "offline_store_params = {\n",
    "    'host': offline_store_config['host'],\n",
    "    'port': offline_store_config['port'],\n",
    "    'database': offline_store_config['database'],\n",
    "    'user': offline_store_config['user'],\n",
    "    'schema': offline_store_config['db_schema'],\n",
    "    # table_name must match with the PostgreSQLSource SQL table.\n",
    "    'table_name': f\"{feature_store_config['project']}_offline_features\",\n",
    "}\n",
    "offline_store_params"
   ]
  },
  {
   "cell_type": "markdown",
   "metadata": {},
   "source": [
    "## Insert into offline store table"
   ]
  },
  {
   "cell_type": "code",
   "execution_count": 22,
   "metadata": {},
   "outputs": [
    {
     "name": "stdout",
     "output_type": "stream",
     "text": [
      "INFO:root:Table 'credit.customer_credit_risk_offline_features' does not exist\n",
      "INFO:root:Available tables: []\n",
      "Engine auto-disposed\n",
      "INFO:root:Inserting [1000] rows in [1] batches...\n"
     ]
    },
    {
     "name": "stderr",
     "output_type": "stream",
     "text": [
      "Inserting batches: 100%|████████████████████████████████████████████████████████████████████████████████████████████████████████████████████████████████████████████████████████| 1/1 [00:00<00:00,  1.78it/s]"
     ]
    },
    {
     "name": "stdout",
     "output_type": "stream",
     "text": [
      "Successfully inserted all 1000 rows!\n",
      "Engine auto-disposed\n"
     ]
    },
    {
     "name": "stderr",
     "output_type": "stream",
     "text": [
      "\n"
     ]
    }
   ],
   "source": [
    "if exists_table(parameters=offline_store_params):\n",
    "    truncate(parameters=offline_store_params)\n",
    "\n",
    "batch_insert_with_progress(df=df_train, parameters=offline_store_params)"
   ]
  },
  {
   "cell_type": "markdown",
   "metadata": {},
   "source": [
    "## Verify"
   ]
  },
  {
   "cell_type": "code",
   "execution_count": 23,
   "metadata": {},
   "outputs": [
    {
     "name": "stdout",
     "output_type": "stream",
     "text": [
      "Engine auto-disposed\n"
     ]
    },
    {
     "data": {
      "text/html": [
       "<div>\n",
       "<style scoped>\n",
       "    .dataframe tbody tr th:only-of-type {\n",
       "        vertical-align: middle;\n",
       "    }\n",
       "\n",
       "    .dataframe tbody tr th {\n",
       "        vertical-align: top;\n",
       "    }\n",
       "\n",
       "    .dataframe thead th {\n",
       "        text-align: right;\n",
       "    }\n",
       "</style>\n",
       "<table border=\"1\" class=\"dataframe\">\n",
       "  <thead>\n",
       "    <tr style=\"text-align: right;\">\n",
       "      <th></th>\n",
       "      <th>purpose_business</th>\n",
       "      <th>purpose_car</th>\n",
       "      <th>purpose_domestic_appliances</th>\n",
       "      <th>purpose_education</th>\n",
       "      <th>purpose_furniture_equipment</th>\n",
       "      <th>purpose_radio_tv</th>\n",
       "      <th>purpose_repairs</th>\n",
       "      <th>purpose_vacation_others</th>\n",
       "      <th>gender_female</th>\n",
       "      <th>gender_male</th>\n",
       "      <th>...</th>\n",
       "      <th>job_1</th>\n",
       "      <th>job_2</th>\n",
       "      <th>job_3</th>\n",
       "      <th>amount_0</th>\n",
       "      <th>amount_1</th>\n",
       "      <th>amount_2</th>\n",
       "      <th>amount_3</th>\n",
       "      <th>event_timestamp</th>\n",
       "      <th>created</th>\n",
       "      <th>entity_id</th>\n",
       "    </tr>\n",
       "  </thead>\n",
       "  <tbody>\n",
       "    <tr>\n",
       "      <th>0</th>\n",
       "      <td>0.0</td>\n",
       "      <td>0.0</td>\n",
       "      <td>0.0</td>\n",
       "      <td>0.0</td>\n",
       "      <td>0.0</td>\n",
       "      <td>1.0</td>\n",
       "      <td>0.0</td>\n",
       "      <td>0.0</td>\n",
       "      <td>0.0</td>\n",
       "      <td>1.0</td>\n",
       "      <td>...</td>\n",
       "      <td>0.0</td>\n",
       "      <td>1.0</td>\n",
       "      <td>0.0</td>\n",
       "      <td>1.0</td>\n",
       "      <td>0.0</td>\n",
       "      <td>0.0</td>\n",
       "      <td>0.0</td>\n",
       "      <td>2025-09-14 12:51:16.155563</td>\n",
       "      <td>2025-09-14 12:51:16.155563</td>\n",
       "      <td>1</td>\n",
       "    </tr>\n",
       "  </tbody>\n",
       "</table>\n",
       "<p>1 rows × 37 columns</p>\n",
       "</div>"
      ],
      "text/plain": [
       "   purpose_business  purpose_car  purpose_domestic_appliances  purpose_education  purpose_furniture_equipment  purpose_radio_tv  purpose_repairs  purpose_vacation_others  gender_female  gender_male  ...  job_1  job_2  job_3  amount_0  amount_1  amount_2  amount_3            event_timestamp                    created  entity_id\n",
       "0               0.0          0.0                          0.0                0.0                          0.0               1.0              0.0                      0.0            0.0          1.0  ...    0.0    1.0    0.0       1.0       0.0       0.0       0.0 2025-09-14 12:51:16.155563 2025-09-14 12:51:16.155563          1\n",
       "\n",
       "[1 rows x 37 columns]"
      ]
     },
     "execution_count": 23,
     "metadata": {},
     "output_type": "execute_result"
    }
   ],
   "source": [
    "columns, record = select_one(parameters=offline_store_params)\n",
    "pd.DataFrame(data=[record], columns=columns)"
   ]
  },
  {
   "cell_type": "markdown",
   "metadata": {},
   "source": [
    "---\n"
   ]
  }
 ],
 "metadata": {
  "kernelspec": {
   "display_name": "Python 3 (ipykernel)",
   "language": "python",
   "name": "python3"
  },
  "language_info": {
   "codemirror_mode": {
    "name": "ipython",
    "version": 3
   },
   "file_extension": ".py",
   "mimetype": "text/x-python",
   "name": "python",
   "nbconvert_exporter": "python",
   "pygments_lexer": "ipython3",
   "version": "3.10.10"
  }
 },
 "nbformat": 4,
 "nbformat_minor": 4
}
