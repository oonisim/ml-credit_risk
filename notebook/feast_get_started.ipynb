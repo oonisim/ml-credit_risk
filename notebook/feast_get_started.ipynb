{
 "cells": [
  {
   "cell_type": "markdown",
   "id": "4b1a0486-95a2-4d04-bbb2-b21db57416ea",
   "metadata": {},
   "source": [
    "# FEAST Get Started\n",
    "\n",
    "Use a sepeate VENV with FEAST related only installation. Otherwise, lots of errors e.g. [Expected 96 from C header, got 88 from PyObject](https://github.com/sinaptik-ai/pandas-ai/issues/1251).\n",
    "\n",
    "* [FEAST Quickstart](https://docs.feast.dev/getting-started/quickstart)\n",
    "* [quickstart.ipynb](https://github.com/feast-dev/feast/blob/master/examples/quickstart/quickstart.ipynb).\n",
    "\n",
    "FEAST document and samples are poorly written. Better tutorials: \n",
    "\n",
    "* [Creating a Feature Store with Feast - Part 1: Building a Local Feature Store for ML Training and Prediction](https://kedion.medium.com/creating-a-feature-store-with-feast-part-1-37c380223e2f)\n",
    "* [Creating a Feature Store with Feast - Part 2: Validating Data with Feast and Great Expectations](https://kedion.medium.com/feature-storage-for-ml-with-feast-part-2-34df1971a8d3)\n",
    "* [Creating a Feature Store with Feast - Part 3: Building An API and React App for Feast](https://kedion.medium.com/feature-storage-for-ml-with-feast-a061899fc4a2)\n",
    "\n",
    "* [Streamlining ML development with Feast](https://cloud.google.com/blog/products/databases/how-feast-feature-store-streamlines-ml-development)\n",
    "* [MLOps 03: Feast Feature Store — An In-depth Overview Experimentation and Application in Tabular data](https://medium.com/@ongxuanhong/mlops-03-feast-feature-store-an-in-depth-overview-experimentation-and-application-in-tabular-b9d1c5376483)\n",
    "\n",
    "* [Feast: The open source feature store for AI May 16, 2025](https://www.redhat.com/en/blog/feast-open-source-feature-store-ai)\n",
    "\n",
    "## Warning\n",
    "\n",
    "FEAST documentation and sample code in [FEAST Quickstart](https://docs.feast.dev/getting-started/quickstart) are poorly written with incosistencies. Do not rely but see [FEAST Quickstart](https://docs.feast.dev/getting-started/quickstart).\n"
   ]
  },
  {
   "cell_type": "code",
   "execution_count": 1,
   "id": "ccec474a-eedc-458e-aba5-530f7ef3fe38",
   "metadata": {},
   "outputs": [
    {
     "data": {
      "text/html": [
       "<style>\n",
       "table {float:left}\n",
       "</style>\n"
      ],
      "text/plain": [
       "<IPython.core.display.HTML object>"
      ]
     },
     "metadata": {},
     "output_type": "display_data"
    }
   ],
   "source": [
    "%%html\n",
    "<style>\n",
    "table {float:left}\n",
    "</style>"
   ]
  },
  {
   "cell_type": "code",
   "execution_count": 28,
   "id": "19d4136f-6d46-4bbf-8ed5-7ee00ab63404",
   "metadata": {},
   "outputs": [],
   "source": [
    "import random\n",
    "import subprocess\n",
    "from datetime import (\n",
    "    datetime,\n",
    "    timedelta\n",
    ")\n",
    "\n",
    "import pandas as pd\n",
    "from feast import (\n",
    "    Entity,\n",
    "    FeatureService,\n",
    "    FeatureView,\n",
    "    Field,\n",
    "    FileSource,\n",
    "    Project,\n",
    "    PushSource,\n",
    "    RequestSource,\n",
    ")\n",
    "from feast.feature_logging import LoggingConfig\n",
    "from feast.infra.offline_stores.file_source import FileLoggingDestination\n",
    "from feast.on_demand_feature_view import on_demand_feature_view\n",
    "from feast.types import Float32, Float64, Int64\n",
    "\n",
    "from feast import FeatureStore\n",
    "from feast.data_source import PushMode\n",
    "\n",
    "from faker import Faker\n",
    "\n",
    "pd.set_option('display.max_columns', None)\n",
    "pd.set_option('display.max_rows', None)"
   ]
  },
  {
   "cell_type": "markdown",
   "id": "cee63b29-be63-496a-9093-2ed55bf6b2b7",
   "metadata": {},
   "source": [
    "# FEAST Project"
   ]
  },
  {
   "cell_type": "code",
   "execution_count": 20,
   "id": "03dcc7e5-0aba-4716-bc74-e72ee76e2803",
   "metadata": {},
   "outputs": [
    {
     "name": "stdout",
     "output_type": "stream",
     "text": [
      "\u001b[01;34m.\u001b[0m\n",
      "├── \u001b[01;34mdata\u001b[0m\n",
      "│   ├── \u001b[00mdriver_stats.parquet\u001b[0m\n",
      "│   └── \u001b[00mregistry.db\u001b[0m\n",
      "├── \u001b[00mfeature_store.yaml\u001b[0m\n",
      "├── \u001b[00mfeatures.py\u001b[0m\n",
      "└── \u001b[00mutility.py\u001b[0m\n",
      "\n",
      "2 directories, 5 files\n"
     ]
    }
   ],
   "source": [
    "!tree"
   ]
  },
  {
   "cell_type": "code",
   "execution_count": 4,
   "id": "59ac47e9-a72a-40f4-9822-6d9ba471d70e",
   "metadata": {},
   "outputs": [
    {
     "name": "stdout",
     "output_type": "stream",
     "text": [
      "/Users/onishima/Documents/home/repository/git/FEAST/feast-quickstart/feature_repository\n"
     ]
    },
    {
     "data": {
      "text/plain": [
       "'/Users/onishima/Documents/home/repository/git/FEAST/feast-quickstart/feature_repository'"
      ]
     },
     "execution_count": 4,
     "metadata": {},
     "output_type": "execute_result"
    }
   ],
   "source": [
    "# !feast init my_project\n",
    "%cd feature_repository\n",
    "%pwd"
   ]
  },
  {
   "cell_type": "markdown",
   "id": "5f0d827a-1ced-429d-9f36-5275cb20d508",
   "metadata": {},
   "source": [
    "### Project as Namespace\n",
    "\n",
    "* [FEAST Project](https://docs.feast.dev/getting-started/concepts/project)\n",
    "\n",
    "> Projects provide complete isolation of feature stores at the infrastructure level. This is accomplished through **resource namespacing, e.g., prefixing table names with the associated project**. Each project should be considered a completely separate universe of entities and features. "
   ]
  },
  {
   "cell_type": "markdown",
   "id": "9d010498-57a9-4766-b762-b9b5d3aac9b3",
   "metadata": {},
   "source": [
    "## Deploy Project\n",
    "\n"
   ]
  },
  {
   "cell_type": "code",
   "execution_count": 22,
   "id": "25458296-ad4f-4fed-9af5-6d4132f045e3",
   "metadata": {},
   "outputs": [
    {
     "name": "stdout",
     "output_type": "stream",
     "text": [
      "/Users/onishima/Documents/home/repository/git/FEAST/feast-quickstart/feature_repository/features.py:35: DeprecationWarning: Entity value_type will be mandatory in the next release. Please specify a value_type for entity 'driver'.\n",
      "  driver = Entity(name=\"driver\", join_keys=[\"driver_id\"])\n",
      "Applying changes for project feature_store_tutorial\n",
      "Updated project \u001b[1m\u001b[33mfeature_store_tutorial\u001b[0m\n",
      "\tdescription: \u001b[1m\u001b[33m\u001b[0m -> \u001b[1m\u001b[92mA project for driver statistics\u001b[0m\n",
      "Created entity \u001b[1m\u001b[32mdriver\u001b[0m\n",
      "Created feature view \u001b[1m\u001b[32mdriver_hourly_stats\u001b[0m\n",
      "Created feature service \u001b[1m\u001b[32mdriver_activity_v1\u001b[0m\n",
      "\n",
      "Created sqlite table \u001b[1m\u001b[32mfeature_store_tutorial_driver_hourly_stats\u001b[0m\n",
      "\n"
     ]
    }
   ],
   "source": [
    "!feast teardown\n",
    "!feast apply"
   ]
  },
  {
   "cell_type": "markdown",
   "id": "cef988b1-8f79-4ea7-b25d-3b787aa04174",
   "metadata": {},
   "source": [
    "### Project Configuration\n",
    "\n",
    "```feast configuration``` shows the project configurations defined in ```feature_store.yaml```.\n",
    "\n",
    "The following top-level configuration options exist in the feature_store.yaml file.\n",
    "\n",
    "| Item          | Description                                                                | Value                                                  |\n",
    "|---------------|----------------------------------------------------------------------------|--------------------------------------------------------|\n",
    "| project       | a namespace for the entire feature store.                                  |                                                        |\n",
    "| provider      | provider is an implementation of a feature store, like Terraform provider. | local aws gcp                                          |\n",
    "| registry      | central catalog of all feature definitions and their related metadata.     | data/registry.db s3://feast-test-s3-bucket/registry.pb |\n",
    "| online_store  | Low latency feature server implementation.                                 | ```type: dynamodb ```               |\n",
    "| offline_store | Computation Engine for Transformation and Materialisation.                 | ```type: redshift ```              |"
   ]
  },
  {
   "cell_type": "code",
   "execution_count": 23,
   "id": "a2d18149-1b21-49ba-bb5d-0f31f8734278",
   "metadata": {},
   "outputs": [
    {
     "name": "stdout",
     "output_type": "stream",
     "text": [
      "project: feature_store_tutorial\n",
      "provider: local\n",
      "registry:\n",
      "  registry_type: sql\n",
      "  path: sqlite:///data/registry.db\n",
      "online_store:\n",
      "  type: sqlite\n",
      "  path: data/online_store.db\n",
      "auth:\n",
      "  type: no_auth\n",
      "offline_store:\n",
      "  type: file\n",
      "batch_engine: local\n",
      "entity_key_serialization_version: 3\n",
      "\n"
     ]
    }
   ],
   "source": [
    "!feast configuration"
   ]
  },
  {
   "cell_type": "code",
   "execution_count": 24,
   "id": "c1ee3e76-ac35-4aaa-b8d9-1fa0814f637a",
   "metadata": {},
   "outputs": [
    {
     "name": "stdout",
     "output_type": "stream",
     "text": [
      "NAME                 ENTITIES    TYPE\n",
      "driver_hourly_stats  {'driver'}  FeatureView\n"
     ]
    }
   ],
   "source": [
    "!feast feature-views list"
   ]
  },
  {
   "cell_type": "code",
   "execution_count": 25,
   "id": "42ec80ce-50d4-474a-89ed-ad9dd494f8f3",
   "metadata": {},
   "outputs": [
    {
     "name": "stdout",
     "output_type": "stream",
     "text": [
      "NAME    DESCRIPTION    TYPE\n",
      "driver                 ValueType.UNKNOWN\n"
     ]
    }
   ],
   "source": [
    "!feast entities list"
   ]
  },
  {
   "cell_type": "markdown",
   "id": "fc9f4b99-5fc0-4770-b8ba-c99c3616b41d",
   "metadata": {},
   "source": [
    "---"
   ]
  },
  {
   "cell_type": "markdown",
   "id": "2f397922-5bb0-4633-a5eb-f555eec1853b",
   "metadata": {},
   "source": [
    "# Data"
   ]
  },
  {
   "cell_type": "code",
   "execution_count": 26,
   "id": "f5ee562f-4857-4a49-b98d-10a5ca78c480",
   "metadata": {},
   "outputs": [
    {
     "name": "stdout",
     "output_type": "stream",
     "text": [
      "<class 'pandas.core.frame.DataFrame'>\n",
      "RangeIndex: 1807 entries, 0 to 1806\n",
      "Data columns (total 6 columns):\n",
      " #   Column           Non-Null Count  Dtype              \n",
      "---  ------           --------------  -----              \n",
      " 0   event_timestamp  1807 non-null   datetime64[ns, UTC]\n",
      " 1   driver_id        1807 non-null   int64              \n",
      " 2   conv_rate        1807 non-null   float32            \n",
      " 3   acc_rate         1807 non-null   float32            \n",
      " 4   avg_daily_trips  1807 non-null   int32              \n",
      " 5   created          1807 non-null   datetime64[us]     \n",
      "dtypes: datetime64[ns, UTC](1), datetime64[us](1), float32(2), int32(1), int64(1)\n",
      "memory usage: 63.7 KB\n",
      "None\n"
     ]
    },
    {
     "data": {
      "text/html": [
       "<div>\n",
       "<style scoped>\n",
       "    .dataframe tbody tr th:only-of-type {\n",
       "        vertical-align: middle;\n",
       "    }\n",
       "\n",
       "    .dataframe tbody tr th {\n",
       "        vertical-align: top;\n",
       "    }\n",
       "\n",
       "    .dataframe thead th {\n",
       "        text-align: right;\n",
       "    }\n",
       "</style>\n",
       "<table border=\"1\" class=\"dataframe\">\n",
       "  <thead>\n",
       "    <tr style=\"text-align: right;\">\n",
       "      <th></th>\n",
       "      <th>event_timestamp</th>\n",
       "      <th>driver_id</th>\n",
       "      <th>conv_rate</th>\n",
       "      <th>acc_rate</th>\n",
       "      <th>avg_daily_trips</th>\n",
       "      <th>created</th>\n",
       "    </tr>\n",
       "  </thead>\n",
       "  <tbody>\n",
       "    <tr>\n",
       "      <th>0</th>\n",
       "      <td>2025-07-22 14:00:00+00:00</td>\n",
       "      <td>1005</td>\n",
       "      <td>0.803060</td>\n",
       "      <td>0.440580</td>\n",
       "      <td>397</td>\n",
       "      <td>2025-08-06 14:28:04.645</td>\n",
       "    </tr>\n",
       "    <tr>\n",
       "      <th>1</th>\n",
       "      <td>2025-07-22 15:00:00+00:00</td>\n",
       "      <td>1005</td>\n",
       "      <td>0.247837</td>\n",
       "      <td>0.249946</td>\n",
       "      <td>313</td>\n",
       "      <td>2025-08-06 14:28:04.645</td>\n",
       "    </tr>\n",
       "    <tr>\n",
       "      <th>2</th>\n",
       "      <td>2025-07-22 16:00:00+00:00</td>\n",
       "      <td>1005</td>\n",
       "      <td>0.633390</td>\n",
       "      <td>0.618245</td>\n",
       "      <td>206</td>\n",
       "      <td>2025-08-06 14:28:04.645</td>\n",
       "    </tr>\n",
       "    <tr>\n",
       "      <th>3</th>\n",
       "      <td>2025-07-22 17:00:00+00:00</td>\n",
       "      <td>1005</td>\n",
       "      <td>0.227286</td>\n",
       "      <td>0.701076</td>\n",
       "      <td>600</td>\n",
       "      <td>2025-08-06 14:28:04.645</td>\n",
       "    </tr>\n",
       "    <tr>\n",
       "      <th>4</th>\n",
       "      <td>2025-07-22 18:00:00+00:00</td>\n",
       "      <td>1005</td>\n",
       "      <td>0.595457</td>\n",
       "      <td>0.991147</td>\n",
       "      <td>545</td>\n",
       "      <td>2025-08-06 14:28:04.645</td>\n",
       "    </tr>\n",
       "  </tbody>\n",
       "</table>\n",
       "</div>"
      ],
      "text/plain": [
       "            event_timestamp  driver_id  conv_rate  acc_rate  avg_daily_trips  \\\n",
       "0 2025-07-22 14:00:00+00:00       1005   0.803060  0.440580              397   \n",
       "1 2025-07-22 15:00:00+00:00       1005   0.247837  0.249946              313   \n",
       "2 2025-07-22 16:00:00+00:00       1005   0.633390  0.618245              206   \n",
       "3 2025-07-22 17:00:00+00:00       1005   0.227286  0.701076              600   \n",
       "4 2025-07-22 18:00:00+00:00       1005   0.595457  0.991147              545   \n",
       "\n",
       "                  created  \n",
       "0 2025-08-06 14:28:04.645  \n",
       "1 2025-08-06 14:28:04.645  \n",
       "2 2025-08-06 14:28:04.645  \n",
       "3 2025-08-06 14:28:04.645  \n",
       "4 2025-08-06 14:28:04.645  "
      ]
     },
     "execution_count": 26,
     "metadata": {},
     "output_type": "execute_result"
    }
   ],
   "source": [
    "driver_stats_df = pd.read_parquet(\"data/driver_stats.parquet\")\n",
    "\n",
    "print(driver_stats_df.info())\n",
    "driver_stats_df.head(5)"
   ]
  },
  {
   "cell_type": "markdown",
   "id": "57b4784e-e6ba-4ed5-bdea-660e92076d21",
   "metadata": {},
   "source": [
    "## Driver data\n"
   ]
  },
  {
   "cell_type": "code",
   "execution_count": 53,
   "id": "8057818b-a41b-4125-83b1-6f7cda50590d",
   "metadata": {},
   "outputs": [],
   "source": [
    "driver_ids = list(set(driver_stats_df['driver_id'].to_list()))"
   ]
  },
  {
   "cell_type": "code",
   "execution_count": 58,
   "id": "f26943f5-303e-456b-b568-f454231ff526",
   "metadata": {},
   "outputs": [],
   "source": [
    "fake = Faker()\n",
    "\n",
    "# Create a user profile\n",
    "def create_fake_driver():\n",
    "    driver_id = int(random.choice(driver_ids))\n",
    "    driver_ids.remove(driver_id)\n",
    "    event_timestamp = driver_stats_df[driver_stats_df['driver_id'] == driver_id]['event_timestamp'].to_list()[0]\n",
    "    return {\n",
    "        'driver_id': driver_id,\n",
    "        'name': fake.name(),\n",
    "        'age': fake.random_int(min=18, max=65),\n",
    "        'email': fake.email(),\n",
    "        'event_timestamp': event_timestamp\n",
    "    }\n",
    "\n",
    "# Generate multiple users\n",
    "drivers_df = pd.DataFrame([\n",
    "    create_fake_driver() \n",
    "    for _ in range(min(20, len(driver_ids)))\n",
    "])"
   ]
  },
  {
   "cell_type": "code",
   "execution_count": 59,
   "id": "b17a9b08-2592-42c7-a38f-994eb6213fcd",
   "metadata": {},
   "outputs": [
    {
     "data": {
      "text/html": [
       "<div>\n",
       "<style scoped>\n",
       "    .dataframe tbody tr th:only-of-type {\n",
       "        vertical-align: middle;\n",
       "    }\n",
       "\n",
       "    .dataframe tbody tr th {\n",
       "        vertical-align: top;\n",
       "    }\n",
       "\n",
       "    .dataframe thead th {\n",
       "        text-align: right;\n",
       "    }\n",
       "</style>\n",
       "<table border=\"1\" class=\"dataframe\">\n",
       "  <thead>\n",
       "    <tr style=\"text-align: right;\">\n",
       "      <th></th>\n",
       "      <th>driver_id</th>\n",
       "      <th>name</th>\n",
       "      <th>age</th>\n",
       "      <th>email</th>\n",
       "      <th>event_timestamp</th>\n",
       "    </tr>\n",
       "  </thead>\n",
       "  <tbody>\n",
       "    <tr>\n",
       "      <th>0</th>\n",
       "      <td>1001</td>\n",
       "      <td>Mary King</td>\n",
       "      <td>51</td>\n",
       "      <td>swansontimothy@example.com</td>\n",
       "      <td>2025-07-22 14:00:00+00:00</td>\n",
       "    </tr>\n",
       "    <tr>\n",
       "      <th>1</th>\n",
       "      <td>1004</td>\n",
       "      <td>Erika Daniels</td>\n",
       "      <td>58</td>\n",
       "      <td>larsonmelvin@example.org</td>\n",
       "      <td>2025-07-22 14:00:00+00:00</td>\n",
       "    </tr>\n",
       "    <tr>\n",
       "      <th>2</th>\n",
       "      <td>1005</td>\n",
       "      <td>John Cook</td>\n",
       "      <td>34</td>\n",
       "      <td>barbara17@example.net</td>\n",
       "      <td>2025-07-22 14:00:00+00:00</td>\n",
       "    </tr>\n",
       "  </tbody>\n",
       "</table>\n",
       "</div>"
      ],
      "text/plain": [
       "   driver_id           name  age                       email  \\\n",
       "0       1001      Mary King   51  swansontimothy@example.com   \n",
       "1       1004  Erika Daniels   58    larsonmelvin@example.org   \n",
       "2       1005      John Cook   34       barbara17@example.net   \n",
       "\n",
       "            event_timestamp  \n",
       "0 2025-07-22 14:00:00+00:00  \n",
       "1 2025-07-22 14:00:00+00:00  \n",
       "2 2025-07-22 14:00:00+00:00  "
      ]
     },
     "execution_count": 59,
     "metadata": {},
     "output_type": "execute_result"
    }
   ],
   "source": [
    "drivers_df.head()"
   ]
  },
  {
   "cell_type": "code",
   "execution_count": null,
   "id": "dd775092-a4b5-4a49-87b3-c4c3beb6820a",
   "metadata": {},
   "outputs": [],
   "source": []
  },
  {
   "cell_type": "markdown",
   "id": "7e8f4f00-e466-479f-98dc-ecbd36a5b354",
   "metadata": {},
   "source": [
    "---\n",
    "# Feature View\n",
    "\n",
    "The core idea of FEAST is, FEAST does NOT store the raw data but **manages how this data is accessed and interpreted**.\n",
    "\n",
    "Feature View is a separation of concern - segregate raw data storage technology and location.\n",
    "\n",
    "## Definition\n",
    "\n",
    "Feature View is defined in ```feature_repository/features.py```.\n",
    "\n",
    "\n",
    "* [Feature view](https://docs.feast.dev/master/getting-started/concepts/feature-view)\n",
    "\n",
    "> In the offline setting, Feature View is a stateless collection of features that are created when the [get_historical_features](https://rtd.feast.dev/en/master/#feast.feature_store.FeatureStore.get_historical_features) method is called.\n",
    "\n"
   ]
  },
  {
   "cell_type": "markdown",
   "id": "ccff0010-3088-4627-bed5-ea1899e7a6fc",
   "metadata": {},
   "source": [
    "### Data Source (FileSource)\n",
    "\n",
    "FEAST way of Encapsulation on where the data is and how to access it."
   ]
  },
  {
   "cell_type": "raw",
   "id": "1a9449b5-7637-4683-b7df-7b024f0716d8",
   "metadata": {},
   "source": [
    "# Read data from parquet files. Parquet is convenient for local development mode. For\n",
    "# production, you can use your favorite DWH, such as BigQuery. See Feast documentation\n",
    "# for more info.\n",
    "driver_hourly_stats = FileSource(\n",
    "    name=\"driver_hourly_stats_source\",\n",
    "    path=\"data/driver_stats.parquet\",\n",
    "    timestamp_field=\"event_timestamp\",\n",
    "    created_timestamp_column=\"created\",\n",
    ")"
   ]
  },
  {
   "cell_type": "markdown",
   "id": "88459cc7-cf63-41d4-a711-0950f605d284",
   "metadata": {},
   "source": [
    "### Raw Features (FeatureView)\n",
    "\n",
    "FEAST way of selecting raw features."
   ]
  },
  {
   "cell_type": "raw",
   "id": "6c34889c-1c4e-49eb-be0b-0470d383af27",
   "metadata": {},
   "source": [
    "# Define an entity for the driver. You can think of an entity as a primary key used to\n",
    "# fetch features.\n",
    "driver = Entity(name=\"driver\", join_keys=[\"driver_id\"])\n",
    "\n",
    "# Our parquet files contain sample data that includes a driver_id column, timestamps and\n",
    "# three feature column. Here we define a Feature View that will allow us to serve this\n",
    "# data to our model online.\n",
    "driver_hourly_stats_view = FeatureView(\n",
    "    # The unique name of this feature view. Two feature views in a single\n",
    "    # project cannot have the same name\n",
    "    name=\"driver_hourly_stats\",\n",
    "    entities=[driver],\n",
    "    ttl=timedelta(days=1),\n",
    "    # The list of features defined below act as a schema to both define features\n",
    "    # for both materialization of features into a store, and are used as references\n",
    "    # during retrieval for building a training dataset or serving features\n",
    "    schema=[\n",
    "        Field(name=\"conv_rate\", dtype=Float32),\n",
    "        Field(name=\"acc_rate\", dtype=Float32),\n",
    "        Field(name=\"avg_daily_trips\", dtype=Int64, description=\"Average daily trips\"),\n",
    "    ],\n",
    "    online=True,\n",
    "    source=driver_hourly_stats,           # <--- Link to the raw data storage technology\n",
    "    # Tags are user defined key/value pairs that are attached to each\n",
    "    # feature view\n",
    "    tags={\"team\": \"driver_performance\"},\n",
    ")"
   ]
  },
  {
   "cell_type": "code",
   "execution_count": 9,
   "id": "da4e8bba-2d57-44e6-8acc-5ba87000f358",
   "metadata": {},
   "outputs": [],
   "source": [
    "#driver_hourly_stats_view"
   ]
  },
  {
   "cell_type": "markdown",
   "id": "461ce354-fe10-4f3a-877e-92280216ab6d",
   "metadata": {},
   "source": [
    "# Feature Store"
   ]
  },
  {
   "cell_type": "code",
   "execution_count": 60,
   "id": "0f9935ec-9581-4d91-87dc-a3776ec71b89",
   "metadata": {},
   "outputs": [],
   "source": [
    "feature_store = FeatureStore(repo_path=\".\")"
   ]
  },
  {
   "cell_type": "markdown",
   "id": "1cdf864b-79df-491b-86f9-90feb14cb4a2",
   "metadata": {},
   "source": [
    "## Query Columns from Offline Store\n",
    "\n",
    "* [get_historical_features](https://rtd.feast.dev/en/master/#feast.feature_store.FeatureStore.get_historical_features)\n",
    "\n",
    "> This method joins historical feature data from one or more feature views to an entity dataframe by using a time travel join. Each feature view is joined to the entity dataframe using all entities configured for the respective feature view.\n",
    ">\n",
    "> **Parameters**  \n",
    "> * ```entity_df```: a collection of rows containing all entity columns (e.g., driver_id) on which features need to be joined, as well as a event_timestamp column used to ensure point-in-time correctness.\n",
    "> \n",
    "> **Returns**: RetrievalJob which can be used to materialize the results.\n",
    "\n",
    "* [RetrievalJob](https://rtd.feast.dev/en/master/#feast.infra.offline_stores.offline_store.RetrievalJob)\n",
    "\n",
    "> A RetrievalJob manages the execution of a query to retrieve data from the offline store.  \n",
    "> **Methods**  \n",
    "> * [to_df](https://rtd.feast.dev/en/master/#feast.infra.offline_stores.offline_store.RetrievalJob.to_df): \n",
    "> Synchronously executes the underlying query and returns the result as a pandas dataframe. On demand transformations will be executed. "
   ]
  },
  {
   "cell_type": "markdown",
   "id": "4cd67210-dd49-4b93-bdb0-fc3fe4b8132c",
   "metadata": {},
   "source": [
    "What is ```event_timestamp``` in ```entity_df```? There is no record in the data source that matches ```(driver_id, event_timestamp)==(1001, datetime(2021, 4, 12, 10, 59, 42))```.\n",
    "\n",
    "* [FEAST Feature Store - What is event_timestamp in entity_df parameter of FeatureStore.get_historical_features method](https://stackoverflow.com/q/79714277/4281353)"
   ]
  },
  {
   "cell_type": "code",
   "execution_count": 62,
   "id": "f9bebe50-ee4f-4915-9f1f-47a15ba042fe",
   "metadata": {},
   "outputs": [],
   "source": [
    "#entity_df[\"event_timestamp\"] = pd.to_datetime(\"now\", utc=True)\n",
    "training_df = feature_store.get_historical_features(\n",
    "    entity_df=drivers_df,\n",
    "    features=[\n",
    "        \"driver_hourly_stats:conv_rate\",\n",
    "        \"driver_hourly_stats:acc_rate\",\n",
    "        \"driver_hourly_stats:avg_daily_trips\",\n",
    "    ],\n",
    ").to_df()"
   ]
  },
  {
   "cell_type": "code",
   "execution_count": 69,
   "id": "82d34e86-b40b-4be7-b9fa-d442de54a532",
   "metadata": {},
   "outputs": [
    {
     "data": {
      "text/plain": [
       "<feast.infra.offline_stores.file_source.FileSource at 0x138944fd0>"
      ]
     },
     "execution_count": 69,
     "metadata": {},
     "output_type": "execute_result"
    }
   ],
   "source": [
    "fs.get_data_source(\"driver_hourly_stats_source\")"
   ]
  },
  {
   "cell_type": "code",
   "execution_count": 72,
   "id": "24c5f45c-08a1-41bb-98c1-b32455ae71ba",
   "metadata": {},
   "outputs": [
    {
     "ename": "NotImplementedError",
     "evalue": "",
     "output_type": "error",
     "traceback": [
      "\u001b[31m---------------------------------------------------------------------------\u001b[39m",
      "\u001b[31mNotImplementedError\u001b[39m                       Traceback (most recent call last)",
      "\u001b[36mCell\u001b[39m\u001b[36m \u001b[39m\u001b[32mIn[72]\u001b[39m\u001b[32m, line 5\u001b[39m\n\u001b[32m      1\u001b[39m entity_df_sql_back = \u001b[33mf\u001b[39m\u001b[33m\"\"\"\u001b[39m\n\u001b[32m      2\u001b[39m \u001b[33mSELECT\u001b[39m\n\u001b[32m      3\u001b[39m \u001b[33m    driver_id,\u001b[39m\n\u001b[32m      4\u001b[39m \u001b[33m    event_timestamp\u001b[39m\n\u001b[32m----> \u001b[39m\u001b[32m5\u001b[39m \u001b[33mFROM \u001b[39m\u001b[38;5;132;01m{\u001b[39;00m\u001b[43mfeature_store\u001b[49m\u001b[43m.\u001b[49m\u001b[43mget_data_source\u001b[49m\u001b[43m(\u001b[49m\u001b[33;43m\"\u001b[39;49m\u001b[33;43mdriver_hourly_stats_source\u001b[39;49m\u001b[33;43m\"\u001b[39;49m\u001b[43m)\u001b[49m\u001b[43m.\u001b[49m\u001b[43mget_table_query_string\u001b[49m\u001b[43m(\u001b[49m\u001b[43m)\u001b[49m\u001b[38;5;132;01m}\u001b[39;00m\n\u001b[32m      6\u001b[39m \u001b[33mWHERE driver_id IS NOT NULL\u001b[39m\n\u001b[32m      7\u001b[39m \u001b[33mLIMIT 100000\u001b[39m\n\u001b[32m      8\u001b[39m \u001b[33m\"\"\"\u001b[39m\n\u001b[32m     10\u001b[39m training_df = feature_store.get_historical_features(\n\u001b[32m     11\u001b[39m     entity_df=entity_df_sql,\n\u001b[32m     12\u001b[39m     features=[\n\u001b[32m   (...)\u001b[39m\u001b[32m     16\u001b[39m     ],\n\u001b[32m     17\u001b[39m ).to_df()\n",
      "\u001b[36mFile \u001b[39m\u001b[32m~/venv/feast_feature_store/lib/python3.11/site-packages/feast/infra/offline_stores/file_source.py:228\u001b[39m, in \u001b[36mFileSource.get_table_query_string\u001b[39m\u001b[34m(self)\u001b[39m\n\u001b[32m    227\u001b[39m \u001b[38;5;28;01mdef\u001b[39;00m\u001b[38;5;250m \u001b[39m\u001b[34mget_table_query_string\u001b[39m(\u001b[38;5;28mself\u001b[39m) -> \u001b[38;5;28mstr\u001b[39m:\n\u001b[32m--> \u001b[39m\u001b[32m228\u001b[39m     \u001b[38;5;28;01mraise\u001b[39;00m \u001b[38;5;167;01mNotImplementedError\u001b[39;00m\n",
      "\u001b[31mNotImplementedError\u001b[39m: "
     ]
    }
   ],
   "source": [
    "entity_df_sql_back = f\"\"\"\n",
    "SELECT\n",
    "    driver_id,\n",
    "    event_timestamp\n",
    "FROM {feature_store.get_data_source(\"driver_hourly_stats_source\").get_table_query_string()}\n",
    "WHERE driver_id IS NOT NULL\n",
    "LIMIT 100000\n",
    "\"\"\"\n",
    "\n",
    "training_df = feature_store.get_historical_features(\n",
    "    entity_df=entity_df_sql,\n",
    "    features=[\n",
    "        \"driver_hourly_stats:conv_rate\",\n",
    "        \"driver_hourly_stats:acc_rate\",\n",
    "        \"driver_hourly_stats:avg_daily_trips\",\n",
    "    ],\n",
    ").to_df()"
   ]
  },
  {
   "cell_type": "code",
   "execution_count": 63,
   "id": "f47bd8a4-5ae0-48dc-9ccf-911d7b19fdf3",
   "metadata": {},
   "outputs": [
    {
     "data": {
      "text/html": [
       "<div>\n",
       "<style scoped>\n",
       "    .dataframe tbody tr th:only-of-type {\n",
       "        vertical-align: middle;\n",
       "    }\n",
       "\n",
       "    .dataframe tbody tr th {\n",
       "        vertical-align: top;\n",
       "    }\n",
       "\n",
       "    .dataframe thead th {\n",
       "        text-align: right;\n",
       "    }\n",
       "</style>\n",
       "<table border=\"1\" class=\"dataframe\">\n",
       "  <thead>\n",
       "    <tr style=\"text-align: right;\">\n",
       "      <th></th>\n",
       "      <th>driver_id</th>\n",
       "      <th>name</th>\n",
       "      <th>age</th>\n",
       "      <th>email</th>\n",
       "      <th>event_timestamp</th>\n",
       "      <th>conv_rate</th>\n",
       "      <th>acc_rate</th>\n",
       "      <th>avg_daily_trips</th>\n",
       "    </tr>\n",
       "  </thead>\n",
       "  <tbody>\n",
       "    <tr>\n",
       "      <th>0</th>\n",
       "      <td>1001</td>\n",
       "      <td>Mary King</td>\n",
       "      <td>51</td>\n",
       "      <td>swansontimothy@example.com</td>\n",
       "      <td>2025-07-22 14:00:00+00:00</td>\n",
       "      <td>0.453962</td>\n",
       "      <td>0.325967</td>\n",
       "      <td>502</td>\n",
       "    </tr>\n",
       "    <tr>\n",
       "      <th>1</th>\n",
       "      <td>1004</td>\n",
       "      <td>Erika Daniels</td>\n",
       "      <td>58</td>\n",
       "      <td>larsonmelvin@example.org</td>\n",
       "      <td>2025-07-22 14:00:00+00:00</td>\n",
       "      <td>0.027477</td>\n",
       "      <td>0.798070</td>\n",
       "      <td>909</td>\n",
       "    </tr>\n",
       "    <tr>\n",
       "      <th>2</th>\n",
       "      <td>1005</td>\n",
       "      <td>John Cook</td>\n",
       "      <td>34</td>\n",
       "      <td>barbara17@example.net</td>\n",
       "      <td>2025-07-22 14:00:00+00:00</td>\n",
       "      <td>0.803060</td>\n",
       "      <td>0.440580</td>\n",
       "      <td>397</td>\n",
       "    </tr>\n",
       "  </tbody>\n",
       "</table>\n",
       "</div>"
      ],
      "text/plain": [
       "   driver_id           name  age                       email  \\\n",
       "0       1001      Mary King   51  swansontimothy@example.com   \n",
       "1       1004  Erika Daniels   58    larsonmelvin@example.org   \n",
       "2       1005      John Cook   34       barbara17@example.net   \n",
       "\n",
       "            event_timestamp  conv_rate  acc_rate  avg_daily_trips  \n",
       "0 2025-07-22 14:00:00+00:00   0.453962  0.325967              502  \n",
       "1 2025-07-22 14:00:00+00:00   0.027477  0.798070              909  \n",
       "2 2025-07-22 14:00:00+00:00   0.803060  0.440580              397  "
      ]
     },
     "execution_count": 63,
     "metadata": {},
     "output_type": "execute_result"
    }
   ],
   "source": [
    "training_df"
   ]
  },
  {
   "cell_type": "markdown",
   "id": "0a5303f2-9d42-40e6-9be0-f92f48cd8eef",
   "metadata": {},
   "source": [
    "### Use SQL as entity_df\n",
    "\n",
    "* [Example: entity SQL query for generating training data](https://docs.feast.dev/getting-started/concepts/feature-retrieval#example-entity-sql-query-for-generating-training-data)\n",
    "\n",
    "It looks the function is not implemented in FEAST. Inquiry [Feaset Slack Question](https://feastopensource.slack.com/archives/C01M2GYP0UC/p1754792525332979).\n",
    "\n",
    "```\n",
    "File feast/infra/offline_stores/file_source.py:228, in FileSource.get_table_query_string(self)\n",
    "    227 def get_table_query_string(self) -> str:\n",
    "--> 228     raise NotImplementedError\n",
    "```\n"
   ]
  },
  {
   "cell_type": "code",
   "execution_count": 74,
   "id": "866606d9-ba89-4679-be18-277faa249faf",
   "metadata": {},
   "outputs": [
    {
     "ename": "NotImplementedError",
     "evalue": "",
     "output_type": "error",
     "traceback": [
      "\u001b[31m---------------------------------------------------------------------------\u001b[39m",
      "\u001b[31mNotImplementedError\u001b[39m                       Traceback (most recent call last)",
      "\u001b[36mCell\u001b[39m\u001b[36m \u001b[39m\u001b[32mIn[74]\u001b[39m\u001b[32m, line 6\u001b[39m\n\u001b[32m      1\u001b[39m \u001b[38;5;66;03m# SQL query for entity_df (example using DuckDB or BigQuery as the offline store)\u001b[39;00m\n\u001b[32m      2\u001b[39m entity_df_sql = \u001b[33mf\u001b[39m\u001b[33m\"\"\"\u001b[39m\n\u001b[32m      3\u001b[39m \u001b[33mSELECT\u001b[39m\n\u001b[32m      4\u001b[39m \u001b[33m    driver_id,\u001b[39m\n\u001b[32m      5\u001b[39m \u001b[33m    event_timestamp\u001b[39m\n\u001b[32m----> \u001b[39m\u001b[32m6\u001b[39m \u001b[33mFROM \u001b[39m\u001b[38;5;132;01m{\u001b[39;00m\u001b[43mfeature_store\u001b[49m\u001b[43m.\u001b[49m\u001b[43mget_data_source\u001b[49m\u001b[43m(\u001b[49m\u001b[33;43m\"\u001b[39;49m\u001b[33;43mdriver_hourly_stats_source\u001b[39;49m\u001b[33;43m\"\u001b[39;49m\u001b[43m)\u001b[49m\u001b[43m.\u001b[49m\u001b[43mget_table_query_string\u001b[49m\u001b[43m(\u001b[49m\u001b[43m)\u001b[49m\u001b[38;5;132;01m}\u001b[39;00m\n\u001b[32m      7\u001b[39m \u001b[33mWHERE driver_id IS NOT NULL\u001b[39m\n\u001b[32m      8\u001b[39m \u001b[33mLIMIT 100\u001b[39m\n\u001b[32m      9\u001b[39m \u001b[33m\"\"\"\u001b[39m\n\u001b[32m     11\u001b[39m training_df = feature_store.get_historical_features(\n\u001b[32m     12\u001b[39m     entity_df=entity_df_sql,\n\u001b[32m     13\u001b[39m     features=[\n\u001b[32m   (...)\u001b[39m\u001b[32m     17\u001b[39m     ],\n\u001b[32m     18\u001b[39m ).to_df()\n",
      "\u001b[36mFile \u001b[39m\u001b[32m~/venv/feast_feature_store/lib/python3.11/site-packages/feast/infra/offline_stores/file_source.py:228\u001b[39m, in \u001b[36mFileSource.get_table_query_string\u001b[39m\u001b[34m(self)\u001b[39m\n\u001b[32m    227\u001b[39m \u001b[38;5;28;01mdef\u001b[39;00m\u001b[38;5;250m \u001b[39m\u001b[34mget_table_query_string\u001b[39m(\u001b[38;5;28mself\u001b[39m) -> \u001b[38;5;28mstr\u001b[39m:\n\u001b[32m--> \u001b[39m\u001b[32m228\u001b[39m     \u001b[38;5;28;01mraise\u001b[39;00m \u001b[38;5;167;01mNotImplementedError\u001b[39;00m\n",
      "\u001b[31mNotImplementedError\u001b[39m: "
     ]
    }
   ],
   "source": [
    "# SQL query for entity_df (example using DuckDB or BigQuery as the offline store)\n",
    "entity_df_sql = f\"\"\"\n",
    "SELECT\n",
    "    driver_id,\n",
    "    event_timestamp\n",
    "FROM {feature_store.get_data_source(\"driver_hourly_stats_source\").get_table_query_string()}\n",
    "WHERE driver_id IS NOT NULL\n",
    "LIMIT 100\n",
    "\"\"\"\n",
    "\n",
    "training_df = feature_store.get_historical_features(\n",
    "    entity_df=entity_df_sql,\n",
    "    features=[\n",
    "        \"driver_hourly_stats:conv_rate\",\n",
    "        \"driver_hourly_stats:acc_rate\",\n",
    "        \"driver_hourly_stats:avg_daily_trips\",\n",
    "    ],\n",
    ").to_df()"
   ]
  },
  {
   "cell_type": "code",
   "execution_count": 73,
   "id": "46d3fc6d-5f2b-4524-99e2-59fd7fae4523",
   "metadata": {},
   "outputs": [
    {
     "ename": "ValueError",
     "evalue": "Please provide an entity_df of type <class 'type'> instead of type <class 'str'>",
     "output_type": "error",
     "traceback": [
      "\u001b[31m---------------------------------------------------------------------------\u001b[39m",
      "\u001b[31mValueError\u001b[39m                                Traceback (most recent call last)",
      "\u001b[36mCell\u001b[39m\u001b[36m \u001b[39m\u001b[32mIn[73]\u001b[39m\u001b[32m, line 11\u001b[39m\n\u001b[32m      1\u001b[39m \u001b[38;5;66;03m# SQL query for entity_df (example using DuckDB or BigQuery as the offline store)\u001b[39;00m\n\u001b[32m      2\u001b[39m entity_df_sql = \u001b[33mf\u001b[39m\u001b[33m\"\"\"\u001b[39m\n\u001b[32m      3\u001b[39m \u001b[33mSELECT\u001b[39m\n\u001b[32m      4\u001b[39m \u001b[33m    driver_id,\u001b[39m\n\u001b[32m   (...)\u001b[39m\u001b[32m      8\u001b[39m \u001b[33mLIMIT 100\u001b[39m\n\u001b[32m      9\u001b[39m \u001b[33m\"\"\"\u001b[39m\n\u001b[32m---> \u001b[39m\u001b[32m11\u001b[39m training_df = \u001b[43mfeature_store\u001b[49m\u001b[43m.\u001b[49m\u001b[43mget_historical_features\u001b[49m\u001b[43m(\u001b[49m\n\u001b[32m     12\u001b[39m \u001b[43m    \u001b[49m\u001b[43mentity_df\u001b[49m\u001b[43m=\u001b[49m\u001b[43mentity_df_sql\u001b[49m\u001b[43m,\u001b[49m\n\u001b[32m     13\u001b[39m \u001b[43m    \u001b[49m\u001b[43mfeatures\u001b[49m\u001b[43m=\u001b[49m\u001b[43m[\u001b[49m\n\u001b[32m     14\u001b[39m \u001b[43m        \u001b[49m\u001b[33;43m\"\u001b[39;49m\u001b[33;43mdriver_hourly_stats:conv_rate\u001b[39;49m\u001b[33;43m\"\u001b[39;49m\u001b[43m,\u001b[49m\n\u001b[32m     15\u001b[39m \u001b[43m        \u001b[49m\u001b[33;43m\"\u001b[39;49m\u001b[33;43mdriver_hourly_stats:acc_rate\u001b[39;49m\u001b[33;43m\"\u001b[39;49m\u001b[43m,\u001b[49m\n\u001b[32m     16\u001b[39m \u001b[43m        \u001b[49m\u001b[33;43m\"\u001b[39;49m\u001b[33;43mdriver_hourly_stats:avg_daily_trips\u001b[39;49m\u001b[33;43m\"\u001b[39;49m\u001b[43m,\u001b[49m\n\u001b[32m     17\u001b[39m \u001b[43m    \u001b[49m\u001b[43m]\u001b[49m\u001b[43m,\u001b[49m\n\u001b[32m     18\u001b[39m \u001b[43m)\u001b[49m.to_df()\n\u001b[32m     20\u001b[39m \u001b[38;5;28mprint\u001b[39m(training_df.head())\n",
      "\u001b[36mFile \u001b[39m\u001b[32m~/venv/feast_feature_store/lib/python3.11/site-packages/feast/feature_store.py:1207\u001b[39m, in \u001b[36mFeatureStore.get_historical_features\u001b[39m\u001b[34m(self, entity_df, features, full_feature_names, start_date, end_date)\u001b[39m\n\u001b[32m   1204\u001b[39m \u001b[38;5;28;01mif\u001b[39;00m end_date \u001b[38;5;129;01mis\u001b[39;00m \u001b[38;5;129;01mnot\u001b[39;00m \u001b[38;5;28;01mNone\u001b[39;00m:\n\u001b[32m   1205\u001b[39m     kwargs[\u001b[33m\"\u001b[39m\u001b[33mend_date\u001b[39m\u001b[33m\"\u001b[39m] = end_date\n\u001b[32m-> \u001b[39m\u001b[32m1207\u001b[39m job = \u001b[43mprovider\u001b[49m\u001b[43m.\u001b[49m\u001b[43mget_historical_features\u001b[49m\u001b[43m(\u001b[49m\n\u001b[32m   1208\u001b[39m \u001b[43m    \u001b[49m\u001b[38;5;28;43mself\u001b[39;49m\u001b[43m.\u001b[49m\u001b[43mconfig\u001b[49m\u001b[43m,\u001b[49m\n\u001b[32m   1209\u001b[39m \u001b[43m    \u001b[49m\u001b[43mfeature_views\u001b[49m\u001b[43m,\u001b[49m\n\u001b[32m   1210\u001b[39m \u001b[43m    \u001b[49m\u001b[43m_feature_refs\u001b[49m\u001b[43m,\u001b[49m\n\u001b[32m   1211\u001b[39m \u001b[43m    \u001b[49m\u001b[43mentity_df\u001b[49m\u001b[43m,\u001b[49m\n\u001b[32m   1212\u001b[39m \u001b[43m    \u001b[49m\u001b[38;5;28;43mself\u001b[39;49m\u001b[43m.\u001b[49m\u001b[43m_registry\u001b[49m\u001b[43m,\u001b[49m\n\u001b[32m   1213\u001b[39m \u001b[43m    \u001b[49m\u001b[38;5;28;43mself\u001b[39;49m\u001b[43m.\u001b[49m\u001b[43mproject\u001b[49m\u001b[43m,\u001b[49m\n\u001b[32m   1214\u001b[39m \u001b[43m    \u001b[49m\u001b[43mfull_feature_names\u001b[49m\u001b[43m,\u001b[49m\n\u001b[32m   1215\u001b[39m \u001b[43m    \u001b[49m\u001b[43m*\u001b[49m\u001b[43m*\u001b[49m\u001b[43mkwargs\u001b[49m\u001b[43m,\u001b[49m\n\u001b[32m   1216\u001b[39m \u001b[43m\u001b[49m\u001b[43m)\u001b[49m\n\u001b[32m   1218\u001b[39m \u001b[38;5;28;01mreturn\u001b[39;00m job\n",
      "\u001b[36mFile \u001b[39m\u001b[32m~/venv/feast_feature_store/lib/python3.11/site-packages/feast/infra/passthrough_provider.py:467\u001b[39m, in \u001b[36mPassthroughProvider.get_historical_features\u001b[39m\u001b[34m(self, config, feature_views, feature_refs, entity_df, registry, project, full_feature_names, **kwargs)\u001b[39m\n\u001b[32m    456\u001b[39m \u001b[38;5;28;01mdef\u001b[39;00m\u001b[38;5;250m \u001b[39m\u001b[34mget_historical_features\u001b[39m(\n\u001b[32m    457\u001b[39m     \u001b[38;5;28mself\u001b[39m,\n\u001b[32m    458\u001b[39m     config: RepoConfig,\n\u001b[32m   (...)\u001b[39m\u001b[32m    465\u001b[39m     **kwargs,\n\u001b[32m    466\u001b[39m ) -> RetrievalJob:\n\u001b[32m--> \u001b[39m\u001b[32m467\u001b[39m     job = \u001b[38;5;28;43mself\u001b[39;49m\u001b[43m.\u001b[49m\u001b[43moffline_store\u001b[49m\u001b[43m.\u001b[49m\u001b[43mget_historical_features\u001b[49m\u001b[43m(\u001b[49m\n\u001b[32m    468\u001b[39m \u001b[43m        \u001b[49m\u001b[43mconfig\u001b[49m\u001b[43m=\u001b[49m\u001b[43mconfig\u001b[49m\u001b[43m,\u001b[49m\n\u001b[32m    469\u001b[39m \u001b[43m        \u001b[49m\u001b[43mfeature_views\u001b[49m\u001b[43m=\u001b[49m\u001b[43mfeature_views\u001b[49m\u001b[43m,\u001b[49m\n\u001b[32m    470\u001b[39m \u001b[43m        \u001b[49m\u001b[43mfeature_refs\u001b[49m\u001b[43m=\u001b[49m\u001b[43mfeature_refs\u001b[49m\u001b[43m,\u001b[49m\n\u001b[32m    471\u001b[39m \u001b[43m        \u001b[49m\u001b[43mentity_df\u001b[49m\u001b[43m=\u001b[49m\u001b[43mentity_df\u001b[49m\u001b[43m,\u001b[49m\n\u001b[32m    472\u001b[39m \u001b[43m        \u001b[49m\u001b[43mregistry\u001b[49m\u001b[43m=\u001b[49m\u001b[43mregistry\u001b[49m\u001b[43m,\u001b[49m\n\u001b[32m    473\u001b[39m \u001b[43m        \u001b[49m\u001b[43mproject\u001b[49m\u001b[43m=\u001b[49m\u001b[43mproject\u001b[49m\u001b[43m,\u001b[49m\n\u001b[32m    474\u001b[39m \u001b[43m        \u001b[49m\u001b[43mfull_feature_names\u001b[49m\u001b[43m=\u001b[49m\u001b[43mfull_feature_names\u001b[49m\u001b[43m,\u001b[49m\n\u001b[32m    475\u001b[39m \u001b[43m        \u001b[49m\u001b[43m*\u001b[49m\u001b[43m*\u001b[49m\u001b[43mkwargs\u001b[49m\u001b[43m,\u001b[49m\n\u001b[32m    476\u001b[39m \u001b[43m    \u001b[49m\u001b[43m)\u001b[49m\n\u001b[32m    478\u001b[39m     \u001b[38;5;28;01mreturn\u001b[39;00m job\n",
      "\u001b[36mFile \u001b[39m\u001b[32m~/venv/feast_feature_store/lib/python3.11/site-packages/feast/infra/offline_stores/dask.py:148\u001b[39m, in \u001b[36mDaskOfflineStore.get_historical_features\u001b[39m\u001b[34m(config, feature_views, feature_refs, entity_df, registry, project, full_feature_names)\u001b[39m\n\u001b[32m    143\u001b[39m     \u001b[38;5;28;01massert\u001b[39;00m \u001b[38;5;28misinstance\u001b[39m(fv.batch_source, FileSource)\n\u001b[32m    145\u001b[39m \u001b[38;5;28;01mif\u001b[39;00m \u001b[38;5;129;01mnot\u001b[39;00m \u001b[38;5;28misinstance\u001b[39m(entity_df, pd.DataFrame) \u001b[38;5;129;01mand\u001b[39;00m \u001b[38;5;129;01mnot\u001b[39;00m \u001b[38;5;28misinstance\u001b[39m(\n\u001b[32m    146\u001b[39m     entity_df, dd.DataFrame\n\u001b[32m    147\u001b[39m ):\n\u001b[32m--> \u001b[39m\u001b[32m148\u001b[39m     \u001b[38;5;28;01mraise\u001b[39;00m \u001b[38;5;167;01mValueError\u001b[39;00m(\n\u001b[32m    149\u001b[39m         \u001b[33mf\u001b[39m\u001b[33m\"\u001b[39m\u001b[33mPlease provide an entity_df of type \u001b[39m\u001b[38;5;132;01m{\u001b[39;00m\u001b[38;5;28mtype\u001b[39m(pd.DataFrame)\u001b[38;5;132;01m}\u001b[39;00m\u001b[33m instead of type \u001b[39m\u001b[38;5;132;01m{\u001b[39;00m\u001b[38;5;28mtype\u001b[39m(entity_df)\u001b[38;5;132;01m}\u001b[39;00m\u001b[33m\"\u001b[39m\n\u001b[32m    150\u001b[39m     )\n\u001b[32m    151\u001b[39m entity_df_event_timestamp_col = DEFAULT_ENTITY_DF_EVENT_TIMESTAMP_COL  \u001b[38;5;66;03m# local modifiable copy of global variable\u001b[39;00m\n\u001b[32m    152\u001b[39m \u001b[38;5;28;01mif\u001b[39;00m entity_df_event_timestamp_col \u001b[38;5;129;01mnot\u001b[39;00m \u001b[38;5;129;01min\u001b[39;00m entity_df.columns:\n",
      "\u001b[31mValueError\u001b[39m: Please provide an entity_df of type <class 'type'> instead of type <class 'str'>"
     ]
    }
   ],
   "source": [
    "\n",
    "# SQL query for entity_df (example using DuckDB or BigQuery as the offline store)\n",
    "entity_df_sql = f\"\"\"\n",
    "SELECT\n",
    "    driver_id,\n",
    "    event_timestamp\n",
    "FROM driver_hourly_stats_source\n",
    "WHERE driver_id IS NOT NULL\n",
    "LIMIT 100\n",
    "\"\"\"\n",
    "\n",
    "training_df = feature_store.get_historical_features(\n",
    "    entity_df=entity_df_sql,\n",
    "    features=[\n",
    "        \"driver_hourly_stats:conv_rate\",\n",
    "        \"driver_hourly_stats:acc_rate\",\n",
    "        \"driver_hourly_stats:avg_daily_trips\",\n",
    "    ],\n",
    ").to_df()\n",
    "\n",
    "print(training_df.head())\n"
   ]
  },
  {
   "cell_type": "markdown",
   "id": "033d0bac-a4ab-44f3-8117-44d3d923e3bc",
   "metadata": {},
   "source": [
    "## Query Columns from Online Store\n",
    "\n",
    "Need to run the materialization command to get columns from the online store."
   ]
  },
  {
   "cell_type": "code",
   "execution_count": 20,
   "id": "a5c983f9-4340-4f52-82b7-e4b1b1e2a07b",
   "metadata": {},
   "outputs": [
    {
     "name": "stdout",
     "output_type": "stream",
     "text": [
      "Materializing \u001b[1m\u001b[32m1\u001b[0m feature views to \u001b[1m\u001b[32m2025-07-22 14:00:00+00:00\u001b[0m into the \u001b[1m\u001b[32msqlite\u001b[0m online store.\n",
      "\n",
      "\u001b[1m\u001b[32mdriver_hourly_stats\u001b[0m from \u001b[1m\u001b[32m2025-07-22 14:00:00+00:00\u001b[0m to \u001b[1m\u001b[32m2025-07-22 14:00:00+00:00\u001b[0m:\n"
     ]
    }
   ],
   "source": [
    "!feast materialize-incremental 2025-07-22T14:00:00"
   ]
  },
  {
   "cell_type": "code",
   "execution_count": 21,
   "id": "d1bc1a43-525b-4757-b74f-05acff7d4e54",
   "metadata": {},
   "outputs": [],
   "source": [
    "driver_stats_fs = feature_store.get_feature_service(\"driver_activity_v1\")\n",
    "\n",
    "feature_vector = feature_store.get_online_features(\n",
    "    features=driver_stats_fs,\n",
    "    entity_rows=[\n",
    "        {\n",
    "            \"driver_id\": 1001,\n",
    "        }\n",
    "    ]\n",
    ").to_df()"
   ]
  },
  {
   "cell_type": "code",
   "execution_count": 22,
   "id": "564c2357-6568-455a-905d-9f4c8f962df5",
   "metadata": {},
   "outputs": [
    {
     "data": {
      "text/html": [
       "<div>\n",
       "<style scoped>\n",
       "    .dataframe tbody tr th:only-of-type {\n",
       "        vertical-align: middle;\n",
       "    }\n",
       "\n",
       "    .dataframe tbody tr th {\n",
       "        vertical-align: top;\n",
       "    }\n",
       "\n",
       "    .dataframe thead th {\n",
       "        text-align: right;\n",
       "    }\n",
       "</style>\n",
       "<table border=\"1\" class=\"dataframe\">\n",
       "  <thead>\n",
       "    <tr style=\"text-align: right;\">\n",
       "      <th></th>\n",
       "      <th>driver_id</th>\n",
       "      <th>avg_daily_trips</th>\n",
       "      <th>acc_rate</th>\n",
       "      <th>conv_rate</th>\n",
       "    </tr>\n",
       "  </thead>\n",
       "  <tbody>\n",
       "    <tr>\n",
       "      <th>0</th>\n",
       "      <td>1001</td>\n",
       "      <td>502</td>\n",
       "      <td>0.325967</td>\n",
       "      <td>0.453962</td>\n",
       "    </tr>\n",
       "  </tbody>\n",
       "</table>\n",
       "</div>"
      ],
      "text/plain": [
       "   driver_id  avg_daily_trips  acc_rate  conv_rate\n",
       "0       1001              502  0.325967   0.453962"
      ]
     },
     "execution_count": 22,
     "metadata": {},
     "output_type": "execute_result"
    }
   ],
   "source": [
    "feature_vector"
   ]
  },
  {
   "cell_type": "code",
   "execution_count": null,
   "id": "a75565c9-2a3e-487c-ae56-c6623285a93c",
   "metadata": {},
   "outputs": [],
   "source": []
  }
 ],
 "metadata": {
  "kernelspec": {
   "display_name": "Python 3 (ipykernel)",
   "language": "python",
   "name": "python3"
  },
  "language_info": {
   "codemirror_mode": {
    "name": "ipython",
    "version": 3
   },
   "file_extension": ".py",
   "mimetype": "text/x-python",
   "name": "python",
   "nbconvert_exporter": "python",
   "pygments_lexer": "ipython3",
   "version": "3.11.13"
  }
 },
 "nbformat": 4,
 "nbformat_minor": 5
}
