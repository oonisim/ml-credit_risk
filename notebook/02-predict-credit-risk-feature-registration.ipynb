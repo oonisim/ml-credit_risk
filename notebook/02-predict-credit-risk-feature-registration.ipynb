{
 "cells": [
  {
   "attachments": {},
   "cell_type": "markdown",
   "id": "4b1a0486-95a2-4d04-bbb2-b21db57416ea",
   "metadata": {},
   "source": [
    "# FEAST \n",
    "\n",
    "Instead of using feature_store.yaml and feast CLI, use SDK.\n"
   ]
  },
  {
   "cell_type": "markdown",
   "id": "1b0ea705-42d2-43d0-bb84-8233f8581b15",
   "metadata": {
    "execution": {
     "iopub.execute_input": "2025-08-13T22:49:00.955058Z",
     "iopub.status.busy": "2025-08-13T22:49:00.954350Z",
     "iopub.status.idle": "2025-08-13T22:49:00.959969Z",
     "shell.execute_reply": "2025-08-13T22:49:00.959109Z",
     "shell.execute_reply.started": "2025-08-13T22:49:00.955029Z"
    }
   },
   "source": [
    "# Setup"
   ]
  },
  {
   "cell_type": "code",
   "execution_count": 1,
   "id": "ccec474a-eedc-458e-aba5-530f7ef3fe38",
   "metadata": {},
   "outputs": [
    {
     "data": {
      "text/html": [
       "<style>\n",
       "table {float:left}\n",
       "</style>\n"
      ],
      "text/plain": [
       "<IPython.core.display.HTML object>"
      ]
     },
     "metadata": {},
     "output_type": "display_data"
    }
   ],
   "source": [
    "%%html\n",
    "<style>\n",
    "table {float:left}\n",
    "</style>"
   ]
  },
  {
   "cell_type": "code",
   "execution_count": 2,
   "id": "19d4136f-6d46-4bbf-8ed5-7ee00ab63404",
   "metadata": {},
   "outputs": [],
   "source": [
    "import os\n",
    "import sys\n",
    "import subprocess\n",
    "from datetime import (\n",
    "    datetime,\n",
    "    timedelta\n",
    ")\n",
    "\n",
    "import pandas as pd\n",
    "from feast import (\n",
    "    Entity,\n",
    "    FeatureService,\n",
    "    FeatureView,\n",
    "    Field,\n",
    "    FileSource,\n",
    "    Project,\n",
    "    PushSource,\n",
    "    RequestSource,\n",
    "    RepoConfig,\n",
    ")\n",
    "from feast.repo_config import (\n",
    "    RegistryConfig\n",
    ")\n",
    "from feast.infra.registry.sql import (\n",
    "    SqlRegistryConfig\n",
    ")\n",
    "from feast.feature_logging import LoggingConfig\n",
    "from feast.infra.offline_stores.file_source import FileLoggingDestination\n",
    "from feast.infra.online_stores.sqlite import (\n",
    "    SqliteOnlineStoreConfig\n",
    ")\n",
    "from feast.infra.offline_stores.contrib.postgres_offline_store.postgres import (\n",
    "    PostgreSQLOfflineStoreConfig\n",
    ")\n",
    "# https://github.com/feast-dev/feast/issues/5613\n",
    "# No module named 'feast.infra.online_stores.contrib\n",
    "# from feast.infra.online_stores.contrib.postgres import (\n",
    "#     PostgreSQLOnlineStoreConfig\n",
    "# )\n",
    "from feast.on_demand_feature_view import on_demand_feature_view\n",
    "from feast.types import (\n",
    "    Float32, Float64, Int64\n",
    ")\n",
    "from feast.value_type import (\n",
    "    ValueType\n",
    ")\n",
    "from feast import FeatureStore\n",
    "from feast.data_source import PushMode\n",
    "\n",
    "pd.set_option('display.max_columns', None)\n",
    "pd.set_option('display.max_rows', None)"
   ]
  },
  {
   "cell_type": "code",
   "execution_count": 3,
   "id": "31dd27b9-db75-41f3-999a-df52fce0bb56",
   "metadata": {},
   "outputs": [],
   "source": [
    "pythonpath = os.path.abspath(\n",
    "    os.path.join(os.getcwd(), '..', 'deployment/feast/feature_repository')\n",
    ")\n",
    "if pythonpath not in sys.path:\n",
    "    sys.path.append(pythonpath)"
   ]
  },
  {
   "cell_type": "code",
   "execution_count": 4,
   "id": "e74c65a7-81cf-404f-98c8-5165fc8798fc",
   "metadata": {},
   "outputs": [],
   "source": [
    "%load_ext autoreload\n",
    "%autoreload 2\n",
    "\n",
    "from psql import (\n",
    "    batch_insert_with_progress,\n",
    "    exists_table,\n",
    "    get_all_tables,\n",
    "    truncate,\n",
    "    select_one,\n",
    "    get_password_from_pgpass,\n",
    ")\n",
    "from utility import (\n",
    "    read_yaml\n",
    ")"
   ]
  },
  {
   "cell_type": "code",
   "execution_count": 5,
   "id": "3212187e-6026-49a6-9285-3c13be3b9c76",
   "metadata": {},
   "outputs": [],
   "source": [
    "NOTEBOOK_DIR: str = os.getcwd()\n",
    "FEATURE_REPO_DIR: str = os.path.abspath(os.sep.join(\n",
    "    [NOTEBOOK_DIR, \"../deployment/feast/feature_repository\"]\n",
    "))"
   ]
  },
  {
   "cell_type": "markdown",
   "id": "cee63b29-be63-496a-9093-2ed55bf6b2b7",
   "metadata": {},
   "source": [
    "--- \n",
    "# FEAST Project"
   ]
  },
  {
   "cell_type": "markdown",
   "id": "5f0d827a-1ced-429d-9f36-5275cb20d508",
   "metadata": {},
   "source": [
    "### Project as Namespace\n",
    "\n",
    "* [FEAST Project](https://docs.feast.dev/getting-started/concepts/project)\n",
    "\n",
    "> Projects provide complete isolation of feature stores at the infrastructure level. This is accomplished through **resource namespacing, e.g., prefixing table names with the associated project**. Each project should be considered a completely separate universe of entities and features.\n",
    "\n",
    "<img src=image/feast_project_structure.png align=\"left\" width=300/>"
   ]
  },
  {
   "cell_type": "raw",
   "id": "c231401d-4435-4a8b-af1e-18d156351b22",
   "metadata": {},
   "source": [
    "%%bash -s \"$FEATURE_REPO_DIR\"\n",
    "(cd $1 && feast apply)"
   ]
  },
  {
   "cell_type": "markdown",
   "id": "cef988b1-8f79-4ea7-b25d-3b787aa04174",
   "metadata": {},
   "source": [
    "## Project Configuration\n",
    "\n",
    "```feast configuration``` shows the project configurations defined in ```feature_store.yaml```.\n",
    "\n",
    "The following top-level configuration options exist in the feature_store.yaml file.\n",
    "\n",
    "| Item          | Description                                                                | Value                                                  |\n",
    "|---------------|----------------------------------------------------------------------------|--------------------------------------------------------|\n",
    "| project       | a namespace for the entire feature store.                                  |                                                        |\n",
    "| provider      | provider is an implementation of a feature store, like Terraform provider. | local aws gcp                                          |\n",
    "| registry      | central catalog of all feature definitions and their related metadata.     | data/registry.db s3://feast-test-s3-bucket/registry.pb |\n",
    "| online_store  | Low latency feature server implementation.                                 | ```type: dynamodb ```               |\n",
    "| offline_store | Computation Engine for Transformation and Materialisation.                 | ```type: redshift ```              |"
   ]
  },
  {
   "cell_type": "markdown",
   "id": "4facb5c1-f97e-4f3e-8c79-17cb0a2aa190",
   "metadata": {},
   "source": [
    "\n",
    "# Feature Registration"
   ]
  },
  {
   "cell_type": "markdown",
   "id": "b8578728-8d56-40d9-99b7-54c5234b4dad",
   "metadata": {},
   "source": [
    "## Feature Definitions"
   ]
  },
  {
   "cell_type": "code",
   "execution_count": 6,
   "id": "69c6b6fd-62c8-4cb6-b3f9-11609bc97b65",
   "metadata": {},
   "outputs": [
    {
     "name": "stderr",
     "output_type": "stream",
     "text": [
      "/var/folders/_4/8v285hqs45xfzk0l1nlr3yq40000gn/T/ipykernel_81306/1117293706.py:39: DeprecationWarning: Entity value_type will be mandatory in the next release. Please specify a value_type for entity 'customer'.\n",
      "  customer = Entity(name=\"customer\", join_keys=[\"entity_id\"])\n"
     ]
    }
   ],
   "source": [
    "\"\"\"Feature definition\n",
    "\"\"\"\n",
    "from datetime import timedelta\n",
    "\n",
    "from feast import (\n",
    "    Entity,\n",
    "    FeatureService,\n",
    "    FeatureView,\n",
    "    Field,\n",
    "    Project,\n",
    ")\n",
    "from feast.infra.offline_stores.contrib.postgres_offline_store.postgres_source import (\n",
    "    PostgreSQLSource,\n",
    ")\n",
    "\n",
    "from feast.feature_logging import LoggingConfig\n",
    "from feast.infra.offline_stores.file_source import FileLoggingDestination\n",
    "from feast.types import Float32, Int64\n",
    "\n",
    "from utility import (\n",
    "    get_yaml_value\n",
    ")\n",
    "\n",
    "\n",
    "project = Project(\n",
    "    name=get_yaml_value(f\"{FEATURE_REPO_DIR}/feature_store.yaml\", \"project\", \"customer_credit_risk\"),\n",
    "    description=\"A project for customer credit risk\"\n",
    ")\n",
    "\n",
    "# https://docs.feast.dev/reference/data-sources/postgres\n",
    "credit_risk_feature_source = PostgreSQLSource(\n",
    "    name=\"customer_credit_risk_feature_source\",\n",
    "    # The table name must match with the offline table insert SQL.\n",
    "    query=\"SELECT * FROM credit.customer_credit_risk_offline_features\",\n",
    "    timestamp_field=\"event_timestamp\",\n",
    "    created_timestamp_column=\"created\",\n",
    ")\n",
    "\n",
    "customer = Entity(name=\"customer\", join_keys=[\"entity_id\"])\n",
    "\n",
    "credit_risk_feature_view = FeatureView(\n",
    "    name=\"customer_credit_risk_feature_view\",\n",
    "    entities=[customer],\n",
    "    ttl=timedelta(minutes=1),\n",
    "    # The list of features defined below act as a schema to both define features\n",
    "    # for both materialization of features into a store, and are used as references\n",
    "    # during retrieval for building a training dataset or serving features\n",
    "    schema=[\n",
    "        Field(name=\"risk\", dtype=Float32),\n",
    "        Field(name=\"purpose_business\", dtype=Float32),\n",
    "        Field(name=\"purpose_car\", dtype=Float32),\n",
    "        Field(name=\"purpose_domestic_appliances\", dtype=Float32),\n",
    "        Field(name=\"purpose_education\", dtype=Float32),\n",
    "        Field(name=\"purpose_furniture_equipment\", dtype=Float32),\n",
    "        Field(name=\"purpose_radio_tv\", dtype=Float32),\n",
    "        Field(name=\"purpose_repairs\", dtype=Float32),\n",
    "        Field(name=\"purpose_vacation_others\", dtype=Float32),\n",
    "        Field(name=\"gender_female\", dtype=Float32),\n",
    "        Field(name=\"gender_male\", dtype=Float32),\n",
    "        Field(name=\"housing_free\", dtype=Float32),\n",
    "        Field(name=\"housing_own\", dtype=Float32),\n",
    "        Field(name=\"housing_rent\", dtype=Float32),\n",
    "        Field(name=\"saving_accounts_little\", dtype=Float32),\n",
    "        Field(name=\"saving_accounts_moderate\", dtype=Float32),\n",
    "        Field(name=\"saving_accounts_no_inf\", dtype=Float32),\n",
    "        Field(name=\"saving_accounts_quite_rich\", dtype=Float32),\n",
    "        Field(name=\"saving_accounts_rich\", dtype=Float32),\n",
    "        Field(name=\"checking_account_little\", dtype=Float32),\n",
    "        Field(name=\"checking_account_moderate\", dtype=Float32),\n",
    "        Field(name=\"checking_account_no_inf\", dtype=Float32),\n",
    "        Field(name=\"checking_account_rich\", dtype=Float32),\n",
    "        Field(name=\"generation_student\", dtype=Float32),\n",
    "        Field(name=\"generation_young\", dtype=Float32),\n",
    "        Field(name=\"generation_adult\", dtype=Float32),\n",
    "        Field(name=\"generation_senior\", dtype=Float32),\n",
    "        Field(name=\"job_0\", dtype=Float32),\n",
    "        Field(name=\"job_1\", dtype=Float32),\n",
    "        Field(name=\"job_2\", dtype=Float32),\n",
    "        Field(name=\"job_3\", dtype=Float32),\n",
    "        Field(name=\"amount_0\", dtype=Float32),\n",
    "        Field(name=\"amount_1\", dtype=Float32),\n",
    "        Field(name=\"amount_2\", dtype=Float32),\n",
    "        Field(name=\"amount_3\", dtype=Float32),\n",
    "        Field(name=\"amount_4\", dtype=Float32),\n",
    "        # Field(name=\"avg_daily_trips\", dtype=Int64, description=\"Average daily trips\"),\n",
    "    ],\n",
    "    source=credit_risk_feature_source,             # Link to the raw data storage technology\n",
    "    online=True,                                    # Tell FEAST to materialise into online store.\n",
    ")\n",
    "\n",
    "# This groups features into a model version\n",
    "customer_credit_risk_feature_service = FeatureService(\n",
    "    name=\"customer_credit_risk_feature_service\",\n",
    "    description=\"Features for Customer Credit Dirk Model\",\n",
    "    tags={\n",
    "        \"version\": \"0.1\"\n",
    "    },\n",
    "    features=[\n",
    "        credit_risk_feature_view,\n",
    "    ],\n",
    "    logging_config=LoggingConfig(\n",
    "        destination=FileLoggingDestination(path=\"data\")\n",
    "    ),\n",
    ")\n"
   ]
  },
  {
   "cell_type": "code",
   "execution_count": 7,
   "id": "9936e308-bfc3-4e64-9436-dc4743d10a2b",
   "metadata": {},
   "outputs": [],
   "source": [
    "feature_store_config = read_yaml(f\"{FEATURE_REPO_DIR}/feature_store.yaml\")\n",
    "repo_config = RepoConfig(\n",
    "    registry=SqlRegistryConfig(\n",
    "        path=\"postgresql+psycopg2://postgres@localhost:5432/feast_registry\", \n",
    "        registry_type=\"sql\",\n",
    "        sqlalchemy_config_kwargs={\n",
    "            \"echo\": False,\n",
    "            \"pool_pre_ping\": True,\n",
    "        }\n",
    "    ),\n",
    "    project=\"customer_credit_risk\",\n",
    "    provider=\"local\",\n",
    "    offline_store=PostgreSQLOfflineStoreConfig(**feature_store_config['offline_store']),\n",
    "    # https://github.com/feast-dev/feast/issues/5613\n",
    "    # online_store=PostgreSQLOnlineStoreConfig(**feature_store_config['online_store'])\n",
    "    online_store=SqliteOnlineStoreConfig(path=f'{FEATURE_REPO_DIR}/data/online_store.db')\n",
    ")"
   ]
  },
  {
   "cell_type": "markdown",
   "id": "9b549d1e-1959-4535-a038-2d054a48e018",
   "metadata": {},
   "source": [
    "## Register Features\n",
    "\n",
    "NOTE: FEAST **does not verify** if there are corresponding columns in the offline store for the Fields defined in the Feature View.\n"
   ]
  },
  {
   "cell_type": "code",
   "execution_count": 8,
   "id": "8aadcd25-93ad-43c6-b0ed-9002941f0882",
   "metadata": {},
   "outputs": [],
   "source": [
    "feature_store = FeatureStore(config=repo_config)"
   ]
  },
  {
   "cell_type": "code",
   "execution_count": 9,
   "id": "c4699126-79ea-4fce-aee5-19bf7f0fd840",
   "metadata": {},
   "outputs": [],
   "source": [
    "feature_store.apply(\n",
    "    objects=[\n",
    "        project,\n",
    "        customer,\n",
    "        credit_risk_feature_source,\n",
    "        credit_risk_feature_view,\n",
    "        customer_credit_risk_feature_service\n",
    "    ]\n",
    ")"
   ]
  },
  {
   "cell_type": "markdown",
   "id": "9cfea047-7100-4580-bd23-5396b5c1ce20",
   "metadata": {},
   "source": [
    "## Result"
   ]
  },
  {
   "cell_type": "code",
   "execution_count": 10,
   "id": "c1ee3e76-ac35-4aaa-b8d9-1fa0814f637a",
   "metadata": {},
   "outputs": [
    {
     "name": "stdout",
     "output_type": "stream",
     "text": [
      "{\n",
      "  \"spec\": {\n",
      "    \"name\": \"customer_credit_risk\",\n",
      "    \"description\": \"A project for customer credit risk\"\n",
      "  },\n",
      "  \"meta\": {\n",
      "    \"createdTimestamp\": \"2025-09-14T11:45:14.045306Z\",\n",
      "    \"lastUpdatedTimestamp\": \"2025-09-14T12:28:25.653482Z\"\n",
      "  }\n",
      "}\n",
      "FeatureView: customer_credit_risk_feature_view\n",
      "  Feature: risk (Float32)\n",
      "  Feature: purpose_business (Float32)\n",
      "  Feature: purpose_car (Float32)\n",
      "  Feature: purpose_domestic_appliances (Float32)\n",
      "  Feature: purpose_education (Float32)\n",
      "  Feature: purpose_furniture_equipment (Float32)\n",
      "  Feature: purpose_radio_tv (Float32)\n",
      "  Feature: purpose_repairs (Float32)\n",
      "  Feature: purpose_vacation_others (Float32)\n",
      "  Feature: gender_female (Float32)\n",
      "  Feature: gender_male (Float32)\n",
      "  Feature: housing_free (Float32)\n",
      "  Feature: housing_own (Float32)\n",
      "  Feature: housing_rent (Float32)\n",
      "  Feature: saving_accounts_little (Float32)\n",
      "  Feature: saving_accounts_moderate (Float32)\n",
      "  Feature: saving_accounts_no_inf (Float32)\n",
      "  Feature: saving_accounts_quite_rich (Float32)\n",
      "  Feature: saving_accounts_rich (Float32)\n",
      "  Feature: checking_account_little (Float32)\n",
      "  Feature: checking_account_moderate (Float32)\n",
      "  Feature: checking_account_no_inf (Float32)\n",
      "  Feature: checking_account_rich (Float32)\n",
      "  Feature: generation_student (Float32)\n",
      "  Feature: generation_young (Float32)\n",
      "  Feature: generation_adult (Float32)\n",
      "  Feature: generation_senior (Float32)\n",
      "  Feature: job_0 (Float32)\n",
      "  Feature: job_1 (Float32)\n",
      "  Feature: job_2 (Float32)\n",
      "  Feature: job_3 (Float32)\n",
      "  Feature: amount_0 (Float32)\n",
      "  Feature: amount_1 (Float32)\n",
      "  Feature: amount_2 (Float32)\n",
      "  Feature: amount_3 (Float32)\n",
      "  Feature: amount_4 (Float32)\n",
      "\n",
      "FeatureService: customer_credit_risk_feature_service\n",
      "  FeatureProjection: customer_credit_risk_feature_view\n",
      "    Feature: risk (Float32)\n",
      "    Feature: purpose_business (Float32)\n",
      "    Feature: purpose_car (Float32)\n",
      "    Feature: purpose_domestic_appliances (Float32)\n",
      "    Feature: purpose_education (Float32)\n",
      "    Feature: purpose_furniture_equipment (Float32)\n",
      "    Feature: purpose_radio_tv (Float32)\n",
      "    Feature: purpose_repairs (Float32)\n",
      "    Feature: purpose_vacation_others (Float32)\n",
      "    Feature: gender_female (Float32)\n",
      "    Feature: gender_male (Float32)\n",
      "    Feature: housing_free (Float32)\n",
      "    Feature: housing_own (Float32)\n",
      "    Feature: housing_rent (Float32)\n",
      "    Feature: saving_accounts_little (Float32)\n",
      "    Feature: saving_accounts_moderate (Float32)\n",
      "    Feature: saving_accounts_no_inf (Float32)\n",
      "    Feature: saving_accounts_quite_rich (Float32)\n",
      "    Feature: saving_accounts_rich (Float32)\n",
      "    Feature: checking_account_little (Float32)\n",
      "    Feature: checking_account_moderate (Float32)\n",
      "    Feature: checking_account_no_inf (Float32)\n",
      "    Feature: checking_account_rich (Float32)\n",
      "    Feature: generation_student (Float32)\n",
      "    Feature: generation_young (Float32)\n",
      "    Feature: generation_adult (Float32)\n",
      "    Feature: generation_senior (Float32)\n",
      "    Feature: job_0 (Float32)\n",
      "    Feature: job_1 (Float32)\n",
      "    Feature: job_2 (Float32)\n",
      "    Feature: job_3 (Float32)\n",
      "    Feature: amount_0 (Float32)\n",
      "    Feature: amount_1 (Float32)\n",
      "    Feature: amount_2 (Float32)\n",
      "    Feature: amount_3 (Float32)\n",
      "    Feature: amount_4 (Float32)\n"
     ]
    }
   ],
   "source": [
    "for project in feature_store.list_projects():\n",
    "    print(project)\n",
    "\n",
    "for fv in feature_store.list_feature_views():\n",
    "    print(f\"FeatureView: {fv.name}\")\n",
    "    for feature in fv.features:\n",
    "        print(f\"  Feature: {feature.name} ({feature.dtype})\")\n",
    "\n",
    "for fs in feature_store.list_feature_services():\n",
    "    print(f\"\\nFeatureService: {fs.name}\")\n",
    "    for projection in fs.feature_view_projections:\n",
    "        print(f\"  FeatureProjection: {projection.name}\")\n",
    "        for feature in projection.features:\n",
    "            print(f\"    Feature: {feature.name} ({feature.dtype})\")"
   ]
  },
  {
   "cell_type": "code",
   "execution_count": null,
   "id": "19f74291-5486-4213-b4be-8ec91cdaf132",
   "metadata": {},
   "outputs": [],
   "source": []
  }
 ],
 "metadata": {
  "kernelspec": {
   "display_name": "Python 3 (ipykernel)",
   "language": "python",
   "name": "python3"
  },
  "language_info": {
   "codemirror_mode": {
    "name": "ipython",
    "version": 3
   },
   "file_extension": ".py",
   "mimetype": "text/x-python",
   "name": "python",
   "nbconvert_exporter": "python",
   "pygments_lexer": "ipython3",
   "version": "3.10.10"
  }
 },
 "nbformat": 4,
 "nbformat_minor": 5
}
